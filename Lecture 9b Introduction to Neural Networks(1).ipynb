{
 "cells": [
  {
   "cell_type": "markdown",
   "metadata": {},
   "source": [
    "**Lesson 9b**"
   ]
  },
  {
   "cell_type": "markdown",
   "metadata": {},
   "source": [
    "_This notebook contains all the sample code and solutions to the exercises in chapter 10._"
   ]
  },
  {
   "cell_type": "markdown",
   "metadata": {},
   "source": [
    "# Setup"
   ]
  },
  {
   "cell_type": "markdown",
   "metadata": {},
   "source": [
    "First, let's make sure this notebook works well in both python 2 and 3, import a few common modules, ensure MatplotLib plots figures inline and prepare a function to save the figures:"
   ]
  },
  {
   "cell_type": "code",
   "execution_count": 1,
   "metadata": {},
   "outputs": [],
   "source": [
    "# To support both python 2 and python 3\n",
    "from __future__ import division, print_function, unicode_literals\n",
    "\n",
    "# Common imports\n",
    "import numpy as np\n",
    "import os\n",
    "\n",
    "# to make this notebook's output stable across runs\n",
    "def reset_graph(seed=42):\n",
    "    tf.reset_default_graph()\n",
    "    tf.set_random_seed(seed)\n",
    "    np.random.seed(seed)\n",
    "\n",
    "# To plot pretty figures\n",
    "%matplotlib inline\n",
    "import matplotlib\n",
    "import matplotlib.pyplot as plt\n",
    "plt.rcParams['axes.labelsize'] = 14\n",
    "plt.rcParams['xtick.labelsize'] = 12\n",
    "plt.rcParams['ytick.labelsize'] = 12\n",
    "\n",
    "# Where to save the figures\n",
    "PROJECT_ROOT_DIR = \".\"\n",
    "CHAPTER_ID = \"ann\"\n",
    "\n",
    "def save_fig(fig_id, tight_layout=True):\n",
    "    path = os.path.join(PROJECT_ROOT_DIR, \"images\", CHAPTER_ID, fig_id + \".png\")\n",
    "    print(\"Saving figure\", fig_id)\n",
    "    if tight_layout:\n",
    "        plt.tight_layout()\n",
    "    plt.savefig(path, format='png', dpi=300)"
   ]
  },
  {
   "cell_type": "markdown",
   "metadata": {},
   "source": [
    "Real neural networks inspired artificial neural networks (ANNs). Though planes were inspired by birds, they don’t have to flap their wings. Similarly, ANNs have gradually become quite different from their biological cousins. <br>\n",
    "\n",
    "ANNs are at the very core of Deep Learning. They are versatile, powerful, and scalable, making them ideal to tackle large and highly complex Machine Learning tasks, such as classifying billions of images (e.g., Google Images), powering speech recognition services (e.g., Apple’s Siri), recommending the best videos to watch to hundreds of millions of users every day (e.g., YouTube), or learning to beat the world champion at the game of Go by examining millions of past games and then playing against itself (DeepMind’s AlphaGo).  <br> \n",
    "\n",
    "In this lesson, we will introduce artificial neural networks, starting with a quick tour of the very first ANN architectures. Then we will present Multi-Layer Perceptrons (MLPs) and implement one using TensorFlow to tackle the MNIST digit classification problem.\n",
    "\n"
   ]
  },
  {
   "cell_type": "markdown",
   "metadata": {},
   "source": [
    "Surprisingly, ANNs have been around for quite a while: they were first introduced back in 1943 by the neurophysiologist Warren McCulloch and the mathematician Walter Pitts. <br>\n",
    "\n",
    "From 1960s-1980s - dark age period with little development. In 1990s SVM proposed as better alternative to ANN. From 2010 resurgent of ANN because:\n",
    "* Huge quantity  of data. ANN outperform other ML algorithms on large and complex problems\n",
    "* Increase of computation power and thanks to gaming industry powerful GPU that can process ANN very efficiently\n",
    "* Small tweaks of training algorithms that had strong impact\n",
    "* Theoretical limitations of ANN (local optima problem) are rare in practice\n",
    "* Now best brains work on ANN"
   ]
  },
  {
   "cell_type": "markdown",
   "metadata": {},
   "source": [
    "Warren McCulloch and Walter Pitts proposed a very simple model of the biological neuron, which later became known as an artificial neuron: it has one or more binary (on/off) inputs and one binary output. The artificial neuron simply activates its output when more than a certain number of its inputs are active. For example, let’s build a few ANNs that perform various logical computations, assuming that a neuron is activated when at least two of its inputs are active."
   ]
  },
  {
   "cell_type": "markdown",
   "metadata": {},
   "source": [
    "![](\"C:\\Users\\ilyar\\Desktop\\ML_JHU\\images\\Lecture10\\ann1.png)"
   ]
  },
  {
   "cell_type": "markdown",
   "metadata": {},
   "source": [
    "<p>\n",
    "    <img src=\"images/Lecture10/ann1.png\" width=\"800\" height=\"400\" />\n",
    "</p>"
   ]
  },
  {
   "cell_type": "markdown",
   "metadata": {},
   "source": [
    "Neurons:\n",
    "    1. Identity function: if neuron A is activated, then neuron C gets activated as well. \n",
    "    2. Neuron C is activated only when **both** neurons A and B are activated\n",
    "    3. Neuron C gets activated if either neuron A **or** neuron B is activated (or both)\n",
    "    4. Neuron C is activated only if neuron A is **active** and if neuron B is **off**."
   ]
  },
  {
   "cell_type": "markdown",
   "metadata": {},
   "source": [
    "# Perceptrons"
   ]
  },
  {
   "cell_type": "markdown",
   "metadata": {},
   "source": [
    "The Perceptron is one of the simplest ANN architectures, invented in 1957 by Frank Rosenblatt. It is based on artificial neuron  called a linear threshold unit (LTU): the inputs and output are now numbers (instead of binary on/off values) and each input connection is associated with a weight. <br>\n",
    "\n",
    "The LTU computes a weighted sum of its inputs ($z = w_1 x_1 + w_2 x_2 + ... + w_n x_n = w^T \\cdot x$), then applies a step function to that sum and outputs the result: \n",
    "$$h_{w}(x) = step(z) = step(w^T \\cdot x)$$\n",
    "<p>\n",
    "    <img src=\"images/Lecture10/ann2.png\" width=\"400\" height=\"400\" />\n",
    "</p>\n"
   ]
  },
  {
   "cell_type": "markdown",
   "metadata": {},
   "source": [
    "The most common step function used in Perceptrons is the Heaviside step function (discrete function). Sometimes the sign function is used instead:\n",
    "$$heavyslide(z) = \\begin{cases}\n",
    "0\\quad &if\\quad z < 0 \\\\\n",
    "1\\quad &if\\quad z \\geq 0 \n",
    "\\end{cases}$$\n",
    "\n",
    "$$sgn(z) = \\begin{cases}\n",
    "-1 \\quad &if\\quad z < 0 \\\\\n",
    "0\\quad &if\\quad z = 0 \\\\\n",
    "1\\quad &if\\quad z \\geq 0 \n",
    "\\end{cases}$$\n",
    "\n"
   ]
  },
  {
   "cell_type": "markdown",
   "metadata": {},
   "source": [
    "A single LTU can be used for simple linear binary classification. It computes a linear combination of the inputs and if the result exceeds a threshold, it outputs the positive class or else outputs the negative class (just like a Logistic Regression classifier or a linear SVM). <br>\n",
    "\n",
    "Next we use a single LTU to classify iris flowers based on the petal length and width (also adding an extra bias feature $x_0 = 1$, just like we did in previous chapters). Training an LTU means finding the right values for $w_0$, $w_1$, and $w_2$. <br>\n",
    "\n",
    "A Perceptron has a single layer of LTUs, with each neuron connected to all the inputs. These connections are often represented using special pass-through neurons called input neurons: they just output whatever input they are fed. Moreover, an extra bias feature is generally added (x0 = 1). This bias feature is typically represented using a special type of neuron called a bias neuron, which just outputs 1 all the time. <br>\n",
    "\n",
    "A Perceptron with two inputs and three outputs is represented in next. It can classify instances simultaneously into three different binary classes, which makes it a multioutput classifier. <br>\n",
    "\n",
    "<p>\n",
    "    <img src=\"images/Lecture10/ann3.png\" width=\"600\" height=\"400\" />\n",
    "</p>\n"
   ]
  },
  {
   "cell_type": "markdown",
   "metadata": {},
   "source": [
    "# Training:\n",
    "\n",
    "Perceptrons are trained by taking into account the error made by the network; it does not reinforce connections that lead to the wrong output. <br>\n",
    "Perceptron is fed one training instance at a time, and for each instance it makes its predictions.<br>\n",
    "\n",
    "For every output neuron that produced a wrong prediction, it reinforces the connection weights from the inputs that would have contributed to the correct prediction. \n",
    "$$w_{i,j}^{next} = w_{i,j} = \\eta(\\hat{y}_j - y_j)x_i$$ \n",
    "Weights are changes with every instance. "
   ]
  },
  {
   "cell_type": "markdown",
   "metadata": {},
   "source": [
    "The decision boundary of each output neuron is linear, so Perceptrons are incapable of learning complex patterns. However, if the training instances are linearly separable, the algorithm would converge to a solution. <br>\n",
    "\n",
    "Scikit-Learn provides a Perceptron class that implements a single LTU network"
   ]
  },
  {
   "cell_type": "code",
   "execution_count": 2,
   "metadata": {},
   "outputs": [],
   "source": [
    "import numpy as np\n",
    "from sklearn.datasets import load_iris\n",
    "from sklearn.linear_model import Perceptron\n",
    "\n",
    "iris = load_iris()\n",
    "X = iris.data[:, (2, 3)]  # petal length, petal width\n",
    "y = (iris.target == 0).astype(np.int)\n",
    "\n",
    "per_clf = Perceptron(max_iter=100, random_state=42)\n",
    "per_clf.fit(X, y)\n",
    "\n",
    "y_pred = per_clf.predict([[2, 0.5]])"
   ]
  },
  {
   "cell_type": "markdown",
   "metadata": {},
   "source": [
    "Single Perceptron can only maange one straigt line, though it is sufficient in this case."
   ]
  },
  {
   "cell_type": "code",
   "execution_count": 3,
   "metadata": {},
   "outputs": [
    {
     "name": "stdout",
     "output_type": "stream",
     "text": [
      "Saving figure perceptron_iris_plot\n"
     ]
    },
    {
     "data": {
      "image/png": "[encoded data removed]",
      "text/plain": [
       "<Figure size 720x288 with 1 Axes>"
      ]
     },
     "metadata": {
      "needs_background": "light"
     },
     "output_type": "display_data"
    }
   ],
   "source": [
    "a = -per_clf.coef_[0][0] / per_clf.coef_[0][1]\n",
    "b = -per_clf.intercept_ / per_clf.coef_[0][1]\n",
    "\n",
    "axes = [0, 5, 0, 2]\n",
    "\n",
    "x0, x1 = np.meshgrid(\n",
    "        np.linspace(axes[0], axes[1], 500).reshape(-1, 1),\n",
    "        np.linspace(axes[2], axes[3], 200).reshape(-1, 1),\n",
    "    )\n",
    "X_new = np.c_[x0.ravel(), x1.ravel()]\n",
    "y_predict = per_clf.predict(X_new)\n",
    "zz = y_predict.reshape(x0.shape)\n",
    "\n",
    "plt.figure(figsize=(10, 4))\n",
    "plt.plot(X[y==0, 0], X[y==0, 1], \"bs\", label=\"Not Iris-Setosa\")\n",
    "plt.plot(X[y==1, 0], X[y==1, 1], \"yo\", label=\"Iris-Setosa\")\n",
    "\n",
    "plt.plot([axes[0], axes[1]], [a * axes[0] + b, a * axes[1] + b], \"k-\", linewidth=3)\n",
    "from matplotlib.colors import ListedColormap\n",
    "custom_cmap = ListedColormap(['#9898ff', '#fafab0'])\n",
    "\n",
    "plt.contourf(x0, x1, zz, cmap=custom_cmap)\n",
    "plt.xlabel(\"Petal length\", fontsize=14)\n",
    "plt.ylabel(\"Petal width\", fontsize=14)\n",
    "plt.legend(loc=\"lower right\", fontsize=14)\n",
    "plt.axis(axes)\n",
    "\n",
    "save_fig(\"perceptron_iris_plot\")\n",
    "plt.show()"
   ]
  },
  {
   "cell_type": "markdown",
   "metadata": {},
   "source": [
    "Perceptron learning algorithm strongly resembles Stochastic Gradient Descent, Scikit-Learn’s Perceptron class is equivalent to using an SGDClassifier with the following hyperparameters: loss=\"perceptron\", learning_rate=\"constant\", eta0=1 (the learning rate), and penalty=None (no regularization)."
   ]
  },
  {
   "cell_type": "markdown",
   "metadata": {},
   "source": [
    "Perceptrons has number of serious weaknesses of Perceptrons, in particular the fact that they are incapable of solving some trivial problems (e.g., the Exclusive OR (XOR) classification problem: An XOr function should return a true value if the two inputs are not equal and a false value if they are equal. <br>\n",
    "\n",
    "\n",
    "Some of the limitations of Perceptrons can be eliminated by stacking multiple Perceptrons. The resulting ANN is called a Multi-Layer Perceptron (MLP). In particular, an MLP can solve the XOR problem, as you can verify by computing the output of the MLP represented next, for each combination of inputs: with inputs $(0, 0)$ or $(1, 1)$ the network outputs 0, and with inputs $(0, 1)$ or $(1, 0)$ it outputs 1. <br>\n",
    "\n",
    "<p>\n",
    "    <img src=\"images/Lecture10/ann4.png\" width=\"600\" height=\"400\" />\n",
    "</p>"
   ]
  },
  {
   "cell_type": "markdown",
   "metadata": {},
   "source": [
    "* left-bottom: sends negative number in all cases except $x_1 = x_2 = 1$\n",
    "* right-bottom: sends positive number in all cases except $x_1 = x_2 = 0$\n",
    "* if left-bottom is negative or right-bottom is positive -- send output to 1"
   ]
  },
  {
   "cell_type": "markdown",
   "metadata": {},
   "source": [
    "#Multi-Layer Perceptron and Backpropagation\n",
    "\n",
    "An MLP is composed of one (passthrough) input layer, one or more layers of LTUs, called hidden layers, and one final layer of LTUs called the output layer. Every layer except the output layer includes a bias neuron and is fully connected to the next layer. When an ANN has two or more hidden layers, it is called a deep neural network (DNN). <br>\n",
    "<p>\n",
    "    <img src=\"images/Lecture10/ann5.png\" width=\"600\" height=\"400\" />\n",
    "</p>"
   ]
  },
  {
   "cell_type": "markdown",
   "metadata": {},
   "source": [
    "The MLP is solved using backpropagation training algorithm that uses Gradient Descent using reverse-mode autodiff. <br>\n",
    "\n",
    "1. For each training instance, the algorithm feeds it to the network and computes the output of every neuron in each consecutive layer (this is the forward pass, just like when making predictions).\n",
    "2. Then it measures the network’s output error (i.e., the difference between the desired output and the actual output of the network), and it computes how much each neuron in the last hidden layer contributed to each output neuron’s error. <br>\n",
    "3. It then proceeds to measure how much of these error contributions came from each neuron in the previous hidden layer and so on until the algorithm reaches the input layer. \n",
    "4. This reverse pass efficiently measures the error gradient across all the connection weights in the network by propagating the error gradient backward in the network (hence the name of the algorithm).\n",
    "5. Forward and reverse passes of backpropagation simply perform reverse-mode autodiff. For each node we measure the gradient  of $y$ $\\frac{\\partial y}{\\partial n_i}$ and the gradient of MSE $y$ $\\frac{\\partial MSE}{\\partial n_i}$.\n",
    "6.The last step of the backpropagation algorithm is a Gradient Descent step on all the connection weights in the network, using the error gradients measured earlier."
   ]
  },
  {
   "cell_type": "markdown",
   "metadata": {},
   "source": [
    "The key change to the MLP’s architecture is the replacement of the step function with the logistic function, $\\sigma(z)=1/(1+\\exp(-z))$. This was essential because the step function contains only flat segments, so there is no gradient to work with (Gradient Descent cannot move on a flat surface), while the logistic function has a well-defined nonzero derivative everywhere, allowing Gradient Descent to make some progress at every step. <br>\n",
    "\n",
    "The backpropagation algorithm may be used with other activation functions, instead of the logistic function. Two other popular activation functions are:\n",
    "\n",
    "* The hyperbolic tangent function $\\tanh(z) = 2\\sigma(2z) - 1$. Just like the logistic function it is S-shaped, continuous, and differentiable, but its output value ranges from –1 to 1 (instead of 0 to 1 in the case of the logistic function), which tends to make each layer’s output centered around 0 at the beginning of training. This often helps speed up convergence.\n",
    "* The ReLU function: $ReLU(z) = \\max(0, z)$. It is continuous but not differentiable at z = 0. However, in practice it works very well and is very fast to compute. Most importantly, the fact that it does not have a maximum output value also helps reduce some issues during Gradient Descent, which we will discuss in the next lesson."
   ]
  },
  {
   "cell_type": "markdown",
   "metadata": {},
   "source": [
    "# Activation functions"
   ]
  },
  {
   "cell_type": "code",
   "execution_count": 4,
   "metadata": {},
   "outputs": [],
   "source": [
    "def logit(z):\n",
    "    return 1 / (1 + np.exp(-z))\n",
    "\n",
    "def relu(z):\n",
    "    return np.maximum(0, z)\n",
    "\n",
    "def derivative(f, z, eps=0.000001):\n",
    "    return (f(z + eps) - f(z - eps))/(2 * eps)"
   ]
  },
  {
   "cell_type": "code",
   "execution_count": 5,
   "metadata": {},
   "outputs": [
    {
     "name": "stdout",
     "output_type": "stream",
     "text": [
      "Saving figure activation_functions_plot\n"
     ]
    },
    {
     "data": {
      "image/png": "[encoded data removed]",
      "text/plain": [
       "<Figure size 792x288 with 2 Axes>"
      ]
     },
     "metadata": {
      "needs_background": "light"
     },
     "output_type": "display_data"
    }
   ],
   "source": [
    "z = np.linspace(-5, 5, 200)\n",
    "\n",
    "plt.figure(figsize=(11,4))\n",
    "\n",
    "plt.subplot(121)\n",
    "plt.plot(z, np.sign(z), \"r-\", linewidth=2, label=\"Step\")\n",
    "plt.plot(z, logit(z), \"g--\", linewidth=2, label=\"Logit\")\n",
    "plt.plot(z, np.tanh(z), \"b-\", linewidth=2, label=\"Tanh\")\n",
    "plt.plot(z, relu(z), \"m-.\", linewidth=2, label=\"ReLU\")\n",
    "plt.grid(True)\n",
    "plt.legend(loc=\"center right\", fontsize=14)\n",
    "plt.title(\"Activation functions\", fontsize=14)\n",
    "plt.axis([-5, 5, -1.2, 1.2])\n",
    "\n",
    "plt.subplot(122)\n",
    "plt.plot(z, derivative(np.sign, z), \"r-\", linewidth=2, label=\"Step\")\n",
    "plt.plot(0, 0, \"ro\", markersize=5)\n",
    "plt.plot(0, 0, \"rx\", markersize=10)\n",
    "plt.plot(z, derivative(logit, z), \"g--\", linewidth=2, label=\"Logit\")\n",
    "plt.plot(z, derivative(np.tanh, z), \"b-\", linewidth=2, label=\"Tanh\")\n",
    "plt.plot(z, derivative(relu, z), \"m-.\", linewidth=2, label=\"ReLU\")\n",
    "plt.grid(True)\n",
    "#plt.legend(loc=\"center right\", fontsize=14)\n",
    "plt.title(\"Derivatives\", fontsize=14)\n",
    "plt.axis([-5, 5, -0.2, 1.2])\n",
    "\n",
    "save_fig(\"activation_functions_plot\")\n",
    "plt.show()"
   ]
  },
  {
   "cell_type": "markdown",
   "metadata": {},
   "source": [
    "An MLP is often used for classification, with each output corresponding to a different binary class (e.g., spam/ham, urgent/not-urgent, and so on). When the classes are exclusive (e.g., classes 0 through 9 for digit image classification), the output layer is typically modified by replacing the individual activation functions by a shared soft‐max (multinomial logit) function (see figure). The output of each neuron corresponds to the estimated probability of the corresponding class. <br>\n",
    "\n",
    "The signal flows only in one direction (from the inputs to the outputs), so this architecture is an example of a feedforward neural network (FNN). Later we will study recurrent networks where the information flows in both directions. \n",
    "<p>\n",
    "    <img src=\"images/Lecture10/ann6.png\" width=\"600\" height=\"400\" />\n",
    "</p>"
   ]
  },
  {
   "cell_type": "code",
   "execution_count": 6,
   "metadata": {},
   "outputs": [],
   "source": [
    "def heaviside(z):\n",
    "    return (z >= 0).astype(z.dtype)\n",
    "\n",
    "def sigmoid(z):\n",
    "    return 1/(1+np.exp(-z))\n",
    "\n",
    "def mlp_xor(x1, x2, activation=heaviside):\n",
    "    return activation(-activation(x1 + x2 - 1.5) + activation(x1 + x2 - 0.5) - 0.5)"
   ]
  },
  {
   "cell_type": "code",
   "execution_count": 7,
   "metadata": {},
   "outputs": [
    {
     "data": {
      "image/png": "[encoded data removed]",
      "text/plain": [
       "<Figure size 720x288 with 2 Axes>"
      ]
     },
     "metadata": {
      "needs_background": "light"
     },
     "output_type": "display_data"
    }
   ],
   "source": [
    "x1s = np.linspace(-0.2, 1.2, 100)\n",
    "x2s = np.linspace(-0.2, 1.2, 100)\n",
    "x1, x2 = np.meshgrid(x1s, x2s)\n",
    "\n",
    "z1 = mlp_xor(x1, x2, activation=heaviside)\n",
    "z2 = mlp_xor(x1, x2, activation=sigmoid)\n",
    "\n",
    "plt.figure(figsize=(10,4))\n",
    "\n",
    "plt.subplot(121)\n",
    "plt.contourf(x1, x2, z1)\n",
    "plt.plot([0, 1], [0, 1], \"gs\", markersize=20)\n",
    "plt.plot([0, 1], [1, 0], \"y^\", markersize=20)\n",
    "plt.title(\"Activation function: heaviside\", fontsize=14)\n",
    "plt.grid(True)\n",
    "\n",
    "plt.subplot(122)\n",
    "plt.contourf(x1, x2, z2)\n",
    "plt.plot([0, 1], [0, 1], \"gs\", markersize=20)\n",
    "plt.plot([0, 1], [1, 0], \"y^\", markersize=20)\n",
    "plt.title(\"Activation function: sigmoid\", fontsize=14)\n",
    "plt.grid(True)"
   ]
  },
  {
   "cell_type": "markdown",
   "metadata": {},
   "source": [
    "# FNN for MNIST"
   ]
  },
  {
   "cell_type": "markdown",
   "metadata": {},
   "source": [
    "## Using the Estimator API (formerly `tf.contrib.learn`)\n",
    "\n",
    "The simplest way to train an MLP with TensorFlow is to use the high-level API TF.Learn, which is quite similar to Scikit-Learn’s API. The DNNClassifier class makes it trivial to train a deep neural network with any number of hidden layers, and a softmax output layer to output estimated class probabilities. <br>\n",
    "\n",
    "Next we train DNN for classification with two hidden layers (one with 300 neurons, and the other with 100 neurons) and a softmax output layer with 10 neurons:"
   ]
  },
  {
   "cell_type": "code",
   "execution_count": 2,
   "metadata": {},
   "outputs": [
    {
     "name": "stderr",
     "output_type": "stream",
     "text": [
      "/anaconda3/lib/python3.6/site-packages/h5py/__init__.py:36: FutureWarning: Conversion of the second argument of issubdtype from `float` to `np.floating` is deprecated. In future, it will be treated as `np.float64 == np.dtype(float).type`.\n",
      "  from ._conv import register_converters as _register_converters\n"
     ]
    }
   ],
   "source": [
    "import tensorflow as tf"
   ]
  },
  {
   "cell_type": "markdown",
   "metadata": {},
   "source": [
    "**Warning**: `tf.examples.tutorials.mnist` is deprecated. We will use `tf.keras.datasets.mnist` instead. Moreover, the `tf.contrib.learn` API was promoted to `tf.estimators` and `tf.feature_columns`, and it has changed considerably. In particular, there is no `infer_real_valued_columns_from_input()` function or `SKCompat` class."
   ]
  },
  {
   "cell_type": "markdown",
   "metadata": {},
   "source": [
    "1. Break data into training and testing. \n",
    "2. Scale the data to (0,1)\n",
    "3. Extract 5000 observations"
   ]
  },
  {
   "cell_type": "code",
   "execution_count": 3,
   "metadata": {},
   "outputs": [],
   "source": [
    "(X_train, y_train), (X_test, y_test) = tf.keras.datasets.mnist.load_data()"
   ]
  },
  {
   "cell_type": "code",
   "execution_count": 4,
   "metadata": {},
   "outputs": [
    {
     "data": {
      "text/plain": [
       "(60000, 28, 28)"
      ]
     },
     "execution_count": 4,
     "metadata": {},
     "output_type": "execute_result"
    }
   ],
   "source": [
    "X_train.shape"
   ]
  },
  {
   "cell_type": "code",
   "execution_count": 9,
   "metadata": {},
   "outputs": [],
   "source": [
    "(X_train, y_train), (X_test, y_test) = tf.keras.datasets.mnist.load_data()\n",
    "X_train = X_train.astype(np.float32).reshape(-1, 28*28) / 255.0\n",
    "X_test = X_test.astype(np.float32).reshape(-1, 28*28) / 255.0\n",
    "y_train = y_train.astype(np.int32)\n",
    "y_test = y_test.astype(np.int32)\n",
    "X_valid, X_train = X_train[:5000], X_train[5000:]\n",
    "y_valid, y_train = y_train[:5000], y_train[5000:]"
   ]
  },
  {
   "cell_type": "markdown",
   "metadata": {},
   "source": [
    "1. Specify features\n",
    "2. Set DNN classifier with two layers (300 and 100 nodes), 10 output classes (digits)\n",
    "3. Train data using batches of 50 observations and 40 epochs (number of time we run data through algorithm)"
   ]
  },
  {
   "cell_type": "code",
   "execution_count": 10,
   "metadata": {},
   "outputs": [
    {
     "name": "stdout",
     "output_type": "stream",
     "text": [
      "INFO:tensorflow:Using default config.\n",
      "WARNING:tensorflow:Using temporary folder as model directory: C:\\Users\\ilyar\\AppData\\Local\\Temp\\tmpilrph7s0\n",
      "INFO:tensorflow:Using config: {'_train_distribute': None, '_evaluation_master': '', '_service': None, '_keep_checkpoint_every_n_hours': 10000, '_log_step_count_steps': 100, '_save_checkpoints_steps': None, '_is_chief': True, '_master': '', '_keep_checkpoint_max': 5, '_task_id': 0, '_cluster_spec': <tensorflow.python.training.server_lib.ClusterSpec object at 0x0000028372748DD8>, '_save_checkpoints_secs': 600, '_num_worker_replicas': 1, '_task_type': 'worker', '_device_fn': None, '_num_ps_replicas': 0, '_global_id_in_cluster': 0, '_tf_random_seed': None, '_session_config': None, '_save_summary_steps': 100, '_model_dir': 'C:\\\\Users\\\\ilyar\\\\AppData\\\\Local\\\\Temp\\\\tmpilrph7s0'}\n",
      "INFO:tensorflow:Calling model_fn.\n",
      "INFO:tensorflow:Done calling model_fn.\n",
      "INFO:tensorflow:Create CheckpointSaverHook.\n",
      "INFO:tensorflow:Graph was finalized.\n",
      "INFO:tensorflow:Running local_init_op.\n",
      "INFO:tensorflow:Done running local_init_op.\n",
      "INFO:tensorflow:Saving checkpoints for 0 into C:\\Users\\ilyar\\AppData\\Local\\Temp\\tmpilrph7s0\\model.ckpt.\n",
      "INFO:tensorflow:loss = 117.125725, step = 1\n",
      "INFO:tensorflow:global_step/sec: 382.699\n",
      "INFO:tensorflow:loss = 20.236963, step = 101 (0.263 sec)\n",
      "INFO:tensorflow:global_step/sec: 472.957\n",
      "INFO:tensorflow:loss = 16.806984, step = 201 (0.211 sec)\n",
      "INFO:tensorflow:global_step/sec: 482.056\n",
      "INFO:tensorflow:loss = 8.502571, step = 301 (0.206 sec)\n",
      "INFO:tensorflow:global_step/sec: 484.383\n",
      "INFO:tensorflow:loss = 14.624183, step = 401 (0.207 sec)\n",
      "INFO:tensorflow:global_step/sec: 470.739\n",
      "INFO:tensorflow:loss = 8.563707, step = 501 (0.212 sec)\n",
      "INFO:tensorflow:global_step/sec: 484.382\n",
      "INFO:tensorflow:loss = 4.309031, step = 601 (0.205 sec)\n",
      "INFO:tensorflow:global_step/sec: 439.767\n",
      "INFO:tensorflow:loss = 4.946638, step = 701 (0.227 sec)\n",
      "INFO:tensorflow:global_step/sec: 430.334\n",
      "INFO:tensorflow:loss = 6.2666135, step = 801 (0.232 sec)\n",
      "INFO:tensorflow:global_step/sec: 447.622\n",
      "INFO:tensorflow:loss = 15.48071, step = 901 (0.223 sec)\n",
      "INFO:tensorflow:global_step/sec: 475.201\n",
      "INFO:tensorflow:loss = 8.41111, step = 1001 (0.210 sec)\n",
      "INFO:tensorflow:global_step/sec: 472.959\n",
      "INFO:tensorflow:loss = 6.100591, step = 1101 (0.212 sec)\n",
      "INFO:tensorflow:global_step/sec: 482.055\n",
      "INFO:tensorflow:loss = 10.964057, step = 1201 (0.206 sec)\n",
      "INFO:tensorflow:global_step/sec: 484.378\n",
      "INFO:tensorflow:loss = 4.455281, step = 1301 (0.206 sec)\n",
      "INFO:tensorflow:global_step/sec: 491.509\n",
      "INFO:tensorflow:loss = 10.561877, step = 1401 (0.203 sec)\n",
      "INFO:tensorflow:global_step/sec: 486.734\n",
      "INFO:tensorflow:loss = 3.3283763, step = 1501 (0.205 sec)\n",
      "INFO:tensorflow:global_step/sec: 445.634\n",
      "INFO:tensorflow:loss = 1.920337, step = 1601 (0.225 sec)\n",
      "INFO:tensorflow:global_step/sec: 329.826\n",
      "INFO:tensorflow:loss = 2.7865698, step = 1701 (0.302 sec)\n",
      "INFO:tensorflow:global_step/sec: 385.645\n",
      "INFO:tensorflow:loss = 4.861477, step = 1801 (0.260 sec)\n",
      "INFO:tensorflow:global_step/sec: 341.043\n",
      "INFO:tensorflow:loss = 3.2987247, step = 1901 (0.293 sec)\n",
      "INFO:tensorflow:global_step/sec: 367.282\n",
      "INFO:tensorflow:loss = 1.9982792, step = 2001 (0.272 sec)\n",
      "INFO:tensorflow:global_step/sec: 351.814\n",
      "INFO:tensorflow:loss = 5.86523, step = 2101 (0.284 sec)\n",
      "INFO:tensorflow:global_step/sec: 375.533\n",
      "INFO:tensorflow:loss = 2.7980611, step = 2201 (0.265 sec)\n",
      "INFO:tensorflow:global_step/sec: 376.945\n",
      "INFO:tensorflow:loss = 8.5719, step = 2301 (0.266 sec)\n",
      "INFO:tensorflow:global_step/sec: 365.938\n",
      "INFO:tensorflow:loss = 4.2102623, step = 2401 (0.272 sec)\n",
      "INFO:tensorflow:global_step/sec: 361.977\n",
      "INFO:tensorflow:loss = 2.4059968, step = 2501 (0.277 sec)\n",
      "INFO:tensorflow:global_step/sec: 372.741\n",
      "INFO:tensorflow:loss = 1.9325176, step = 2601 (0.267 sec)\n",
      "INFO:tensorflow:global_step/sec: 378.367\n",
      "INFO:tensorflow:loss = 1.509048, step = 2701 (0.264 sec)\n",
      "INFO:tensorflow:global_step/sec: 382.7\n",
      "INFO:tensorflow:loss = 2.7509754, step = 2801 (0.261 sec)\n",
      "INFO:tensorflow:global_step/sec: 376.944\n",
      "INFO:tensorflow:loss = 1.7037566, step = 2901 (0.267 sec)\n",
      "INFO:tensorflow:global_step/sec: 365.939\n",
      "INFO:tensorflow:loss = 0.25887117, step = 3001 (0.272 sec)\n",
      "INFO:tensorflow:global_step/sec: 378.367\n",
      "INFO:tensorflow:loss = 4.6329107, step = 3101 (0.264 sec)\n",
      "INFO:tensorflow:global_step/sec: 382.701\n",
      "INFO:tensorflow:loss = 0.28091043, step = 3201 (0.260 sec)\n",
      "INFO:tensorflow:global_step/sec: 361.975\n",
      "INFO:tensorflow:loss = 7.667709, step = 3301 (0.277 sec)\n",
      "INFO:tensorflow:global_step/sec: 375.534\n",
      "INFO:tensorflow:loss = 1.9696428, step = 3401 (0.265 sec)\n",
      "INFO:tensorflow:global_step/sec: 378.367\n",
      "INFO:tensorflow:loss = 3.066072, step = 3501 (0.265 sec)\n",
      "INFO:tensorflow:global_step/sec: 384.167\n",
      "INFO:tensorflow:loss = 0.77894443, step = 3601 (0.260 sec)\n",
      "INFO:tensorflow:global_step/sec: 376.944\n",
      "INFO:tensorflow:loss = 4.4866695, step = 3701 (0.264 sec)\n",
      "INFO:tensorflow:global_step/sec: 384.167\n",
      "INFO:tensorflow:loss = 0.8267921, step = 3801 (0.260 sec)\n",
      "INFO:tensorflow:global_step/sec: 371.359\n",
      "INFO:tensorflow:loss = 0.81991875, step = 3901 (0.269 sec)\n",
      "INFO:tensorflow:global_step/sec: 375.533\n",
      "INFO:tensorflow:loss = 0.71635973, step = 4001 (0.266 sec)\n",
      "INFO:tensorflow:global_step/sec: 376.945\n",
      "INFO:tensorflow:loss = 4.0693874, step = 4101 (0.266 sec)\n",
      "INFO:tensorflow:global_step/sec: 385.644\n",
      "INFO:tensorflow:loss = 2.560838, step = 4201 (0.259 sec)\n",
      "INFO:tensorflow:global_step/sec: 361.976\n",
      "INFO:tensorflow:loss = 3.983909, step = 4301 (0.276 sec)\n",
      "INFO:tensorflow:global_step/sec: 354.3\n",
      "INFO:tensorflow:loss = 0.88794744, step = 4401 (0.281 sec)\n",
      "INFO:tensorflow:global_step/sec: 381.245\n",
      "INFO:tensorflow:loss = 1.8531133, step = 4501 (0.263 sec)\n",
      "INFO:tensorflow:global_step/sec: 367.282\n",
      "INFO:tensorflow:loss = 0.4730546, step = 4601 (0.272 sec)\n",
      "INFO:tensorflow:global_step/sec: 313.333\n",
      "INFO:tensorflow:loss = 0.28305838, step = 4701 (0.320 sec)\n",
      "INFO:tensorflow:global_step/sec: 320.345\n",
      "INFO:tensorflow:loss = 0.2210502, step = 4801 (0.310 sec)\n",
      "INFO:tensorflow:global_step/sec: 348.15\n",
      "INFO:tensorflow:loss = 2.7193534, step = 4901 (0.288 sec)\n",
      "INFO:tensorflow:global_step/sec: 335.343\n",
      "INFO:tensorflow:loss = 0.35475293, step = 5001 (0.298 sec)\n",
      "INFO:tensorflow:global_step/sec: 325.542\n",
      "INFO:tensorflow:loss = 2.9105337, step = 5101 (0.306 sec)\n",
      "INFO:tensorflow:global_step/sec: 343.383\n",
      "INFO:tensorflow:loss = 0.4862874, step = 5201 (0.292 sec)\n",
      "INFO:tensorflow:global_step/sec: 344.56\n",
      "INFO:tensorflow:loss = 1.3538667, step = 5301 (0.290 sec)\n",
      "INFO:tensorflow:global_step/sec: 354.303\n",
      "INFO:tensorflow:loss = 1.4961938, step = 5401 (0.281 sec)\n",
      "INFO:tensorflow:global_step/sec: 355.558\n",
      "INFO:tensorflow:loss = 0.5912765, step = 5501 (0.282 sec)\n",
      "INFO:tensorflow:global_step/sec: 345.747\n",
      "INFO:tensorflow:loss = 0.81889355, step = 5601 (0.289 sec)\n",
      "INFO:tensorflow:global_step/sec: 361.978\n",
      "INFO:tensorflow:loss = 1.8992072, step = 5701 (0.276 sec)\n",
      "INFO:tensorflow:global_step/sec: 354.302\n",
      "INFO:tensorflow:loss = 2.3494663, step = 5801 (0.281 sec)\n",
      "INFO:tensorflow:global_step/sec: 379.8\n",
      "INFO:tensorflow:loss = 3.0696142, step = 5901 (0.264 sec)\n",
      "INFO:tensorflow:global_step/sec: 375.532\n",
      "INFO:tensorflow:loss = 0.14200622, step = 6001 (0.265 sec)\n",
      "INFO:tensorflow:global_step/sec: 375.534\n",
      "INFO:tensorflow:loss = 0.14484176, step = 6101 (0.266 sec)\n",
      "INFO:tensorflow:global_step/sec: 353.054\n",
      "INFO:tensorflow:loss = 1.2998983, step = 6201 (0.284 sec)\n",
      "INFO:tensorflow:global_step/sec: 349.364\n",
      "INFO:tensorflow:loss = 0.12374647, step = 6301 (0.286 sec)\n",
      "INFO:tensorflow:global_step/sec: 371.36\n",
      "INFO:tensorflow:loss = 1.1250267, step = 6401 (0.269 sec)\n",
      "INFO:tensorflow:global_step/sec: 302.922\n",
      "INFO:tensorflow:loss = 0.73527706, step = 6501 (0.330 sec)\n",
      "INFO:tensorflow:global_step/sec: 360.67\n",
      "INFO:tensorflow:loss = 1.2146829, step = 6601 (0.277 sec)\n",
      "INFO:tensorflow:global_step/sec: 304.764\n",
      "INFO:tensorflow:loss = 0.53438234, step = 6701 (0.328 sec)\n",
      "INFO:tensorflow:global_step/sec: 322.406\n",
      "INFO:tensorflow:loss = 0.23980692, step = 6801 (0.309 sec)\n",
      "INFO:tensorflow:global_step/sec: 325.541\n",
      "INFO:tensorflow:loss = 3.0333343, step = 6901 (0.308 sec)\n",
      "INFO:tensorflow:global_step/sec: 343.383\n",
      "INFO:tensorflow:loss = 0.59156024, step = 7001 (0.291 sec)\n",
      "INFO:tensorflow:global_step/sec: 372.741\n",
      "INFO:tensorflow:loss = 0.47236648, step = 7101 (0.268 sec)\n"
     ]
    },
    {
     "name": "stdout",
     "output_type": "stream",
     "text": [
      "INFO:tensorflow:global_step/sec: 339.887\n",
      "INFO:tensorflow:loss = 1.7447996, step = 7201 (0.294 sec)\n",
      "INFO:tensorflow:global_step/sec: 363.29\n",
      "INFO:tensorflow:loss = 0.49805403, step = 7301 (0.274 sec)\n",
      "INFO:tensorflow:global_step/sec: 367.28\n",
      "INFO:tensorflow:loss = 0.2501976, step = 7401 (0.273 sec)\n",
      "INFO:tensorflow:global_step/sec: 378.365\n",
      "INFO:tensorflow:loss = 0.8977372, step = 7501 (0.264 sec)\n",
      "INFO:tensorflow:global_step/sec: 343.383\n",
      "INFO:tensorflow:loss = 0.4928054, step = 7601 (0.291 sec)\n",
      "INFO:tensorflow:global_step/sec: 292.324\n",
      "INFO:tensorflow:loss = 0.18207529, step = 7701 (0.342 sec)\n",
      "INFO:tensorflow:global_step/sec: 235.63\n",
      "INFO:tensorflow:loss = 0.84753776, step = 7801 (0.426 sec)\n",
      "INFO:tensorflow:global_step/sec: 306.643\n",
      "INFO:tensorflow:loss = 0.6813962, step = 7901 (0.324 sec)\n",
      "INFO:tensorflow:global_step/sec: 354.3\n",
      "INFO:tensorflow:loss = 0.9685349, step = 8001 (0.281 sec)\n",
      "INFO:tensorflow:global_step/sec: 324.491\n",
      "INFO:tensorflow:loss = 2.2534075, step = 8101 (0.308 sec)\n",
      "INFO:tensorflow:global_step/sec: 306.628\n",
      "INFO:tensorflow:loss = 1.55122, step = 8201 (0.327 sec)\n",
      "INFO:tensorflow:global_step/sec: 281.235\n",
      "INFO:tensorflow:loss = 1.0830108, step = 8301 (0.356 sec)\n",
      "INFO:tensorflow:global_step/sec: 294.043\n",
      "INFO:tensorflow:loss = 0.41119707, step = 8401 (0.339 sec)\n",
      "INFO:tensorflow:global_step/sec: 326.603\n",
      "INFO:tensorflow:loss = 0.20501742, step = 8501 (0.308 sec)\n",
      "INFO:tensorflow:global_step/sec: 293.179\n",
      "INFO:tensorflow:loss = 0.25486225, step = 8601 (0.341 sec)\n",
      "INFO:tensorflow:global_step/sec: 279.295\n",
      "INFO:tensorflow:loss = 0.37723404, step = 8701 (0.357 sec)\n",
      "INFO:tensorflow:global_step/sec: 333.114\n",
      "INFO:tensorflow:loss = 0.09704759, step = 8801 (0.300 sec)\n",
      "INFO:tensorflow:global_step/sec: 276.219\n",
      "INFO:tensorflow:loss = 0.3870716, step = 8901 (0.363 sec)\n",
      "INFO:tensorflow:global_step/sec: 274.705\n",
      "INFO:tensorflow:loss = 0.0888447, step = 9001 (0.363 sec)\n",
      "INFO:tensorflow:global_step/sec: 315.306\n",
      "INFO:tensorflow:loss = 2.3715014, step = 9101 (0.317 sec)\n",
      "INFO:tensorflow:global_step/sec: 349.363\n",
      "INFO:tensorflow:loss = 0.2473416, step = 9201 (0.285 sec)\n",
      "INFO:tensorflow:global_step/sec: 379.8\n",
      "INFO:tensorflow:loss = 0.27999762, step = 9301 (0.264 sec)\n",
      "INFO:tensorflow:global_step/sec: 375.533\n",
      "INFO:tensorflow:loss = 0.32169276, step = 9401 (0.265 sec)\n",
      "INFO:tensorflow:global_step/sec: 378.367\n",
      "INFO:tensorflow:loss = 0.71050924, step = 9501 (0.264 sec)\n",
      "INFO:tensorflow:global_step/sec: 381.241\n",
      "INFO:tensorflow:loss = 0.30750036, step = 9601 (0.263 sec)\n",
      "INFO:tensorflow:global_step/sec: 382.703\n",
      "INFO:tensorflow:loss = 0.17131707, step = 9701 (0.261 sec)\n",
      "INFO:tensorflow:global_step/sec: 388.632\n",
      "INFO:tensorflow:loss = 0.1097808, step = 9801 (0.257 sec)\n",
      "INFO:tensorflow:global_step/sec: 393.206\n",
      "INFO:tensorflow:loss = 0.52086115, step = 9901 (0.254 sec)\n",
      "INFO:tensorflow:global_step/sec: 384.163\n",
      "INFO:tensorflow:loss = 0.1683909, step = 10001 (0.260 sec)\n",
      "INFO:tensorflow:global_step/sec: 382.702\n",
      "INFO:tensorflow:loss = 0.105280876, step = 10101 (0.260 sec)\n",
      "INFO:tensorflow:global_step/sec: 381.244\n",
      "INFO:tensorflow:loss = 0.058921114, step = 10201 (0.263 sec)\n",
      "INFO:tensorflow:global_step/sec: 379.802\n",
      "INFO:tensorflow:loss = 1.4080931, step = 10301 (0.262 sec)\n",
      "INFO:tensorflow:global_step/sec: 381.244\n",
      "INFO:tensorflow:loss = 0.23974562, step = 10401 (0.263 sec)\n",
      "INFO:tensorflow:global_step/sec: 385.644\n",
      "INFO:tensorflow:loss = 0.033559494, step = 10501 (0.258 sec)\n",
      "INFO:tensorflow:global_step/sec: 381.243\n",
      "INFO:tensorflow:loss = 1.3521734, step = 10601 (0.262 sec)\n",
      "INFO:tensorflow:global_step/sec: 384.165\n",
      "INFO:tensorflow:loss = 0.25087968, step = 10701 (0.261 sec)\n",
      "INFO:tensorflow:global_step/sec: 382.702\n",
      "INFO:tensorflow:loss = 0.17603384, step = 10801 (0.261 sec)\n",
      "INFO:tensorflow:global_step/sec: 378.367\n",
      "INFO:tensorflow:loss = 0.6644302, step = 10901 (0.264 sec)\n",
      "INFO:tensorflow:global_step/sec: 369.991\n",
      "INFO:tensorflow:loss = 0.62736994, step = 11001 (0.269 sec)\n",
      "INFO:tensorflow:global_step/sec: 381.243\n",
      "INFO:tensorflow:loss = 0.16399992, step = 11101 (0.263 sec)\n",
      "INFO:tensorflow:global_step/sec: 378.367\n",
      "INFO:tensorflow:loss = 0.2613713, step = 11201 (0.263 sec)\n",
      "INFO:tensorflow:global_step/sec: 369.989\n",
      "INFO:tensorflow:loss = 0.38192588, step = 11301 (0.270 sec)\n",
      "INFO:tensorflow:global_step/sec: 382.7\n",
      "INFO:tensorflow:loss = 0.2679065, step = 11401 (0.261 sec)\n",
      "INFO:tensorflow:global_step/sec: 382.701\n",
      "INFO:tensorflow:loss = 0.63461643, step = 11501 (0.261 sec)\n",
      "INFO:tensorflow:global_step/sec: 381.245\n",
      "INFO:tensorflow:loss = 0.14599106, step = 11601 (0.262 sec)\n",
      "INFO:tensorflow:global_step/sec: 384.164\n",
      "INFO:tensorflow:loss = 0.06459269, step = 11701 (0.261 sec)\n",
      "INFO:tensorflow:global_step/sec: 371.362\n",
      "INFO:tensorflow:loss = 0.3559189, step = 11801 (0.268 sec)\n",
      "INFO:tensorflow:global_step/sec: 388.634\n",
      "INFO:tensorflow:loss = 0.054103322, step = 11901 (0.258 sec)\n",
      "INFO:tensorflow:global_step/sec: 374.132\n",
      "INFO:tensorflow:loss = 0.29415184, step = 12001 (0.266 sec)\n",
      "INFO:tensorflow:global_step/sec: 356.823\n",
      "INFO:tensorflow:loss = 0.3177359, step = 12101 (0.281 sec)\n",
      "INFO:tensorflow:global_step/sec: 375.532\n",
      "INFO:tensorflow:loss = 0.13768664, step = 12201 (0.265 sec)\n",
      "INFO:tensorflow:global_step/sec: 378.368\n",
      "INFO:tensorflow:loss = 1.4395666, step = 12301 (0.265 sec)\n",
      "INFO:tensorflow:global_step/sec: 369.99\n",
      "INFO:tensorflow:loss = 0.1794448, step = 12401 (0.270 sec)\n",
      "INFO:tensorflow:global_step/sec: 376.946\n",
      "INFO:tensorflow:loss = 0.85887784, step = 12501 (0.265 sec)\n",
      "INFO:tensorflow:global_step/sec: 385.643\n",
      "INFO:tensorflow:loss = 0.7938311, step = 12601 (0.259 sec)\n",
      "INFO:tensorflow:global_step/sec: 372.74\n",
      "INFO:tensorflow:loss = 0.3624272, step = 12701 (0.267 sec)\n",
      "INFO:tensorflow:global_step/sec: 368.631\n",
      "INFO:tensorflow:loss = 0.5478419, step = 12801 (0.272 sec)\n",
      "INFO:tensorflow:global_step/sec: 379.797\n",
      "INFO:tensorflow:loss = 0.2767648, step = 12901 (0.263 sec)\n",
      "INFO:tensorflow:global_step/sec: 376.947\n",
      "INFO:tensorflow:loss = 0.021664564, step = 13001 (0.265 sec)\n",
      "INFO:tensorflow:global_step/sec: 378.368\n",
      "INFO:tensorflow:loss = 0.4155905, step = 13101 (0.264 sec)\n",
      "INFO:tensorflow:global_step/sec: 376.945\n",
      "INFO:tensorflow:loss = 0.0476968, step = 13201 (0.265 sec)\n",
      "INFO:tensorflow:global_step/sec: 378.367\n",
      "INFO:tensorflow:loss = 0.23603155, step = 13301 (0.264 sec)\n",
      "INFO:tensorflow:global_step/sec: 378.366\n",
      "INFO:tensorflow:loss = 0.10582502, step = 13401 (0.263 sec)\n",
      "INFO:tensorflow:global_step/sec: 381.246\n",
      "INFO:tensorflow:loss = 0.112784036, step = 13501 (0.263 sec)\n",
      "INFO:tensorflow:global_step/sec: 360.671\n",
      "INFO:tensorflow:loss = 0.119972885, step = 13601 (0.277 sec)\n",
      "INFO:tensorflow:global_step/sec: 378.37\n",
      "INFO:tensorflow:loss = 0.16826788, step = 13701 (0.264 sec)\n",
      "INFO:tensorflow:global_step/sec: 371.361\n",
      "INFO:tensorflow:loss = 0.08834591, step = 13801 (0.268 sec)\n",
      "INFO:tensorflow:global_step/sec: 376.944\n",
      "INFO:tensorflow:loss = 0.16083299, step = 13901 (0.265 sec)\n",
      "INFO:tensorflow:global_step/sec: 381.243\n",
      "INFO:tensorflow:loss = 0.08394296, step = 14001 (0.262 sec)\n",
      "INFO:tensorflow:global_step/sec: 364.61\n",
      "INFO:tensorflow:loss = 0.06318831, step = 14101 (0.275 sec)\n",
      "INFO:tensorflow:global_step/sec: 372.741\n",
      "INFO:tensorflow:loss = 0.09876138, step = 14201 (0.268 sec)\n",
      "INFO:tensorflow:global_step/sec: 376.944\n",
      "INFO:tensorflow:loss = 0.026573038, step = 14301 (0.264 sec)\n",
      "INFO:tensorflow:global_step/sec: 382.7\n",
      "INFO:tensorflow:loss = 0.28871796, step = 14401 (0.262 sec)\n",
      "INFO:tensorflow:global_step/sec: 382.7\n",
      "INFO:tensorflow:loss = 0.07765704, step = 14501 (0.260 sec)\n",
      "INFO:tensorflow:global_step/sec: 387.131\n",
      "INFO:tensorflow:loss = 0.75559735, step = 14601 (0.259 sec)\n",
      "INFO:tensorflow:global_step/sec: 376.945\n",
      "INFO:tensorflow:loss = 0.29017588, step = 14701 (0.265 sec)\n",
      "INFO:tensorflow:global_step/sec: 382.7\n",
      "INFO:tensorflow:loss = 0.11738956, step = 14801 (0.261 sec)\n",
      "INFO:tensorflow:global_step/sec: 382.7\n",
      "INFO:tensorflow:loss = 1.047416, step = 14901 (0.261 sec)\n",
      "INFO:tensorflow:global_step/sec: 387.133\n",
      "INFO:tensorflow:loss = 0.2106926, step = 15001 (0.257 sec)\n",
      "INFO:tensorflow:global_step/sec: 371.359\n",
      "INFO:tensorflow:loss = 0.16776866, step = 15101 (0.270 sec)\n",
      "INFO:tensorflow:global_step/sec: 378.367\n",
      "INFO:tensorflow:loss = 0.1316844, step = 15201 (0.263 sec)\n",
      "INFO:tensorflow:global_step/sec: 304.764\n",
      "INFO:tensorflow:loss = 0.17555846, step = 15301 (0.329 sec)\n"
     ]
    },
    {
     "name": "stdout",
     "output_type": "stream",
     "text": [
      "INFO:tensorflow:global_step/sec: 327.673\n",
      "INFO:tensorflow:loss = 0.028804107, step = 15401 (0.305 sec)\n",
      "INFO:tensorflow:global_step/sec: 317.3\n",
      "INFO:tensorflow:loss = 0.21897495, step = 15501 (0.315 sec)\n",
      "INFO:tensorflow:global_step/sec: 325.542\n",
      "INFO:tensorflow:loss = 0.46189016, step = 15601 (0.307 sec)\n",
      "INFO:tensorflow:global_step/sec: 307.569\n",
      "INFO:tensorflow:loss = 0.47507894, step = 15701 (0.324 sec)\n",
      "INFO:tensorflow:global_step/sec: 329.827\n",
      "INFO:tensorflow:loss = 0.31513298, step = 15801 (0.304 sec)\n",
      "INFO:tensorflow:global_step/sec: 330.917\n",
      "INFO:tensorflow:loss = 0.044898372, step = 15901 (0.302 sec)\n",
      "INFO:tensorflow:global_step/sec: 339.89\n",
      "INFO:tensorflow:loss = 0.015813412, step = 16001 (0.294 sec)\n",
      "INFO:tensorflow:global_step/sec: 332.01\n",
      "INFO:tensorflow:loss = 0.44662732, step = 16101 (0.301 sec)\n",
      "INFO:tensorflow:global_step/sec: 337.6\n",
      "INFO:tensorflow:loss = 0.052802585, step = 16201 (0.296 sec)\n",
      "INFO:tensorflow:global_step/sec: 334.223\n",
      "INFO:tensorflow:loss = 0.03357581, step = 16301 (0.299 sec)\n",
      "INFO:tensorflow:global_step/sec: 330.915\n",
      "INFO:tensorflow:loss = 0.17599174, step = 16401 (0.302 sec)\n",
      "INFO:tensorflow:global_step/sec: 335.343\n",
      "INFO:tensorflow:loss = 0.18298495, step = 16501 (0.298 sec)\n",
      "INFO:tensorflow:global_step/sec: 354.302\n",
      "INFO:tensorflow:loss = 0.07716533, step = 16601 (0.281 sec)\n",
      "INFO:tensorflow:global_step/sec: 371.36\n",
      "INFO:tensorflow:loss = 0.16014096, step = 16701 (0.270 sec)\n",
      "INFO:tensorflow:global_step/sec: 335.343\n",
      "INFO:tensorflow:loss = 0.04276392, step = 16801 (0.298 sec)\n",
      "INFO:tensorflow:global_step/sec: 382.699\n",
      "INFO:tensorflow:loss = 0.19921945, step = 16901 (0.260 sec)\n",
      "INFO:tensorflow:global_step/sec: 394.754\n",
      "INFO:tensorflow:loss = 0.2826171, step = 17001 (0.254 sec)\n",
      "INFO:tensorflow:global_step/sec: 399.471\n",
      "INFO:tensorflow:loss = 0.07822595, step = 17101 (0.249 sec)\n",
      "INFO:tensorflow:global_step/sec: 404.302\n",
      "INFO:tensorflow:loss = 0.66865176, step = 17201 (0.247 sec)\n",
      "INFO:tensorflow:global_step/sec: 407.594\n",
      "INFO:tensorflow:loss = 0.033055283, step = 17301 (0.245 sec)\n",
      "INFO:tensorflow:global_step/sec: 388.63\n",
      "INFO:tensorflow:loss = 0.13419285, step = 17401 (0.258 sec)\n",
      "INFO:tensorflow:global_step/sec: 407.592\n",
      "INFO:tensorflow:loss = 0.036870155, step = 17501 (0.245 sec)\n",
      "INFO:tensorflow:global_step/sec: 405.941\n",
      "INFO:tensorflow:loss = 0.008893052, step = 17601 (0.245 sec)\n",
      "INFO:tensorflow:global_step/sec: 407.59\n",
      "INFO:tensorflow:loss = 0.31875083, step = 17701 (0.246 sec)\n",
      "INFO:tensorflow:global_step/sec: 399.471\n",
      "INFO:tensorflow:loss = 0.1132098, step = 17801 (0.250 sec)\n",
      "INFO:tensorflow:global_step/sec: 402.681\n",
      "INFO:tensorflow:loss = 0.2472246, step = 17901 (0.247 sec)\n",
      "INFO:tensorflow:global_step/sec: 409.254\n",
      "INFO:tensorflow:loss = 0.026352514, step = 18001 (0.245 sec)\n",
      "INFO:tensorflow:global_step/sec: 388.633\n",
      "INFO:tensorflow:loss = 0.03372898, step = 18101 (0.257 sec)\n",
      "INFO:tensorflow:global_step/sec: 405.939\n",
      "INFO:tensorflow:loss = 0.08912419, step = 18201 (0.246 sec)\n",
      "INFO:tensorflow:global_step/sec: 405.942\n",
      "INFO:tensorflow:loss = 0.021628965, step = 18301 (0.245 sec)\n",
      "INFO:tensorflow:global_step/sec: 399.471\n",
      "INFO:tensorflow:loss = 0.047889255, step = 18401 (0.251 sec)\n",
      "INFO:tensorflow:global_step/sec: 405.941\n",
      "INFO:tensorflow:loss = 0.024766192, step = 18501 (0.246 sec)\n",
      "INFO:tensorflow:global_step/sec: 401.067\n",
      "INFO:tensorflow:loss = 0.04311087, step = 18601 (0.249 sec)\n",
      "INFO:tensorflow:global_step/sec: 391.67\n",
      "INFO:tensorflow:loss = 0.13614368, step = 18701 (0.254 sec)\n",
      "INFO:tensorflow:global_step/sec: 371.36\n",
      "INFO:tensorflow:loss = 0.025514076, step = 18801 (0.270 sec)\n",
      "INFO:tensorflow:global_step/sec: 402.681\n",
      "INFO:tensorflow:loss = 0.15947212, step = 18901 (0.248 sec)\n",
      "INFO:tensorflow:global_step/sec: 405.941\n",
      "INFO:tensorflow:loss = 0.091448195, step = 19001 (0.246 sec)\n",
      "INFO:tensorflow:global_step/sec: 402.677\n",
      "INFO:tensorflow:loss = 0.10239792, step = 19101 (0.247 sec)\n",
      "INFO:tensorflow:global_step/sec: 410.933\n",
      "INFO:tensorflow:loss = 0.064965844, step = 19201 (0.243 sec)\n",
      "INFO:tensorflow:global_step/sec: 397.885\n",
      "INFO:tensorflow:loss = 0.077258244, step = 19301 (0.251 sec)\n",
      "INFO:tensorflow:global_step/sec: 396.314\n",
      "INFO:tensorflow:loss = 0.08632094, step = 19401 (0.252 sec)\n",
      "INFO:tensorflow:global_step/sec: 396.313\n",
      "INFO:tensorflow:loss = 0.04649142, step = 19501 (0.252 sec)\n",
      "INFO:tensorflow:global_step/sec: 402.681\n",
      "INFO:tensorflow:loss = 0.15400618, step = 19601 (0.248 sec)\n",
      "INFO:tensorflow:global_step/sec: 405.941\n",
      "INFO:tensorflow:loss = 0.27873242, step = 19701 (0.246 sec)\n",
      "INFO:tensorflow:global_step/sec: 402.68\n",
      "INFO:tensorflow:loss = 0.076464795, step = 19801 (0.248 sec)\n",
      "INFO:tensorflow:global_step/sec: 409.254\n",
      "INFO:tensorflow:loss = 0.09594608, step = 19901 (0.245 sec)\n",
      "INFO:tensorflow:global_step/sec: 405.941\n",
      "INFO:tensorflow:loss = 0.0803631, step = 20001 (0.246 sec)\n",
      "INFO:tensorflow:global_step/sec: 397.88\n",
      "INFO:tensorflow:loss = 0.07533848, step = 20101 (0.251 sec)\n",
      "INFO:tensorflow:global_step/sec: 396.319\n",
      "INFO:tensorflow:loss = 0.3882706, step = 20201 (0.251 sec)\n",
      "INFO:tensorflow:global_step/sec: 414.328\n",
      "INFO:tensorflow:loss = 0.10163438, step = 20301 (0.242 sec)\n",
      "INFO:tensorflow:global_step/sec: 372.034\n",
      "INFO:tensorflow:loss = 0.06477275, step = 20401 (0.269 sec)\n",
      "INFO:tensorflow:global_step/sec: 399.472\n",
      "INFO:tensorflow:loss = 0.13261886, step = 20501 (0.249 sec)\n",
      "INFO:tensorflow:global_step/sec: 401.069\n",
      "INFO:tensorflow:loss = 0.020236196, step = 20601 (0.250 sec)\n",
      "INFO:tensorflow:global_step/sec: 409.255\n",
      "INFO:tensorflow:loss = 0.036343526, step = 20701 (0.244 sec)\n",
      "INFO:tensorflow:global_step/sec: 401.069\n",
      "INFO:tensorflow:loss = 0.009576473, step = 20801 (0.249 sec)\n",
      "INFO:tensorflow:global_step/sec: 402.68\n",
      "INFO:tensorflow:loss = 0.116205424, step = 20901 (0.247 sec)\n",
      "INFO:tensorflow:global_step/sec: 402.681\n",
      "INFO:tensorflow:loss = 0.015065769, step = 21001 (0.249 sec)\n",
      "INFO:tensorflow:global_step/sec: 404.303\n",
      "INFO:tensorflow:loss = 0.30287948, step = 21101 (0.246 sec)\n",
      "INFO:tensorflow:global_step/sec: 404.304\n",
      "INFO:tensorflow:loss = 0.008658541, step = 21201 (0.248 sec)\n",
      "INFO:tensorflow:global_step/sec: 407.591\n",
      "INFO:tensorflow:loss = 0.025196724, step = 21301 (0.245 sec)\n",
      "INFO:tensorflow:global_step/sec: 404.304\n",
      "INFO:tensorflow:loss = 0.030358408, step = 21401 (0.247 sec)\n",
      "INFO:tensorflow:global_step/sec: 410.93\n",
      "INFO:tensorflow:loss = 0.043624237, step = 21501 (0.242 sec)\n",
      "INFO:tensorflow:global_step/sec: 410.933\n",
      "INFO:tensorflow:loss = 0.06771194, step = 21601 (0.244 sec)\n",
      "INFO:tensorflow:global_step/sec: 404.303\n",
      "INFO:tensorflow:loss = 0.031608973, step = 21701 (0.247 sec)\n",
      "INFO:tensorflow:global_step/sec: 407.592\n",
      "INFO:tensorflow:loss = 0.048505656, step = 21801 (0.244 sec)\n",
      "INFO:tensorflow:global_step/sec: 416.046\n",
      "INFO:tensorflow:loss = 0.019347593, step = 21901 (0.241 sec)\n",
      "INFO:tensorflow:global_step/sec: 384.166\n",
      "INFO:tensorflow:loss = 0.036333874, step = 22001 (0.260 sec)\n",
      "INFO:tensorflow:global_step/sec: 364.608\n",
      "INFO:tensorflow:loss = 0.0494861, step = 22101 (0.274 sec)\n",
      "INFO:tensorflow:global_step/sec: 360.674\n",
      "INFO:tensorflow:loss = 0.38512972, step = 22201 (0.276 sec)\n",
      "INFO:tensorflow:global_step/sec: 306.628\n",
      "INFO:tensorflow:loss = 0.009063131, step = 22301 (0.327 sec)\n",
      "INFO:tensorflow:global_step/sec: 270.992\n",
      "INFO:tensorflow:loss = 0.20585755, step = 22401 (0.370 sec)\n",
      "INFO:tensorflow:global_step/sec: 303.841\n",
      "INFO:tensorflow:loss = 0.044749636, step = 22501 (0.327 sec)\n",
      "INFO:tensorflow:global_step/sec: 339.888\n",
      "INFO:tensorflow:loss = 0.09013726, step = 22601 (0.294 sec)\n",
      "INFO:tensorflow:global_step/sec: 374.132\n",
      "INFO:tensorflow:loss = 0.13226543, step = 22701 (0.268 sec)\n",
      "INFO:tensorflow:global_step/sec: 430.332\n",
      "INFO:tensorflow:loss = 0.046335597, step = 22801 (0.232 sec)\n",
      "INFO:tensorflow:global_step/sec: 338.74\n",
      "INFO:tensorflow:loss = 0.059046876, step = 22901 (0.294 sec)\n",
      "INFO:tensorflow:global_step/sec: 312.36\n",
      "INFO:tensorflow:loss = 0.42919728, step = 23001 (0.321 sec)\n",
      "INFO:tensorflow:global_step/sec: 343.381\n",
      "INFO:tensorflow:loss = 0.014630778, step = 23101 (0.290 sec)\n",
      "INFO:tensorflow:global_step/sec: 329.827\n",
      "INFO:tensorflow:loss = 0.006863584, step = 23201 (0.303 sec)\n",
      "INFO:tensorflow:global_step/sec: 295.774\n",
      "INFO:tensorflow:loss = 0.0066303285, step = 23301 (0.339 sec)\n",
      "INFO:tensorflow:global_step/sec: 379.799\n",
      "INFO:tensorflow:loss = 0.029111022, step = 23401 (0.263 sec)\n"
     ]
    },
    {
     "name": "stdout",
     "output_type": "stream",
     "text": [
      "INFO:tensorflow:global_step/sec: 417.78\n",
      "INFO:tensorflow:loss = 0.023155447, step = 23501 (0.239 sec)\n",
      "INFO:tensorflow:global_step/sec: 391.668\n",
      "INFO:tensorflow:loss = 0.044898845, step = 23601 (0.254 sec)\n",
      "INFO:tensorflow:global_step/sec: 316.302\n",
      "INFO:tensorflow:loss = 0.051835943, step = 23701 (0.317 sec)\n",
      "INFO:tensorflow:global_step/sec: 316.3\n",
      "INFO:tensorflow:loss = 0.02680178, step = 23801 (0.315 sec)\n",
      "INFO:tensorflow:global_step/sec: 287.297\n",
      "INFO:tensorflow:loss = 0.011425098, step = 23901 (0.348 sec)\n",
      "INFO:tensorflow:global_step/sec: 268.092\n",
      "INFO:tensorflow:loss = 0.037953876, step = 24001 (0.375 sec)\n",
      "INFO:tensorflow:global_step/sec: 355.563\n",
      "INFO:tensorflow:loss = 0.04354292, step = 24101 (0.279 sec)\n",
      "INFO:tensorflow:global_step/sec: 365.938\n",
      "INFO:tensorflow:loss = 0.012279621, step = 24201 (0.274 sec)\n",
      "INFO:tensorflow:global_step/sec: 371.362\n",
      "INFO:tensorflow:loss = 0.037756186, step = 24301 (0.268 sec)\n",
      "INFO:tensorflow:global_step/sec: 299.305\n",
      "INFO:tensorflow:loss = 0.10932177, step = 24401 (0.335 sec)\n",
      "INFO:tensorflow:global_step/sec: 412.622\n",
      "INFO:tensorflow:loss = 0.04293348, step = 24501 (0.243 sec)\n",
      "INFO:tensorflow:global_step/sec: 306.619\n",
      "INFO:tensorflow:loss = 0.0015342395, step = 24601 (0.325 sec)\n",
      "INFO:tensorflow:global_step/sec: 260.442\n",
      "INFO:tensorflow:loss = 0.022621583, step = 24701 (0.383 sec)\n",
      "INFO:tensorflow:global_step/sec: 315.306\n",
      "INFO:tensorflow:loss = 0.014733629, step = 24801 (0.318 sec)\n",
      "INFO:tensorflow:global_step/sec: 404.305\n",
      "INFO:tensorflow:loss = 0.08087948, step = 24901 (0.247 sec)\n",
      "INFO:tensorflow:global_step/sec: 288.124\n",
      "INFO:tensorflow:loss = 0.008216609, step = 25001 (0.346 sec)\n",
      "INFO:tensorflow:global_step/sec: 343.379\n",
      "INFO:tensorflow:loss = 0.16592747, step = 25101 (0.293 sec)\n",
      "INFO:tensorflow:global_step/sec: 339.891\n",
      "INFO:tensorflow:loss = 0.014079392, step = 25201 (0.293 sec)\n",
      "INFO:tensorflow:global_step/sec: 345.749\n",
      "INFO:tensorflow:loss = 0.020551546, step = 25301 (0.289 sec)\n",
      "INFO:tensorflow:global_step/sec: 404.303\n",
      "INFO:tensorflow:loss = 0.04469104, step = 25401 (0.246 sec)\n",
      "INFO:tensorflow:global_step/sec: 428.493\n",
      "INFO:tensorflow:loss = 0.22512731, step = 25501 (0.234 sec)\n",
      "INFO:tensorflow:global_step/sec: 372.741\n",
      "INFO:tensorflow:loss = 0.09942281, step = 25601 (0.268 sec)\n",
      "INFO:tensorflow:global_step/sec: 239.523\n",
      "INFO:tensorflow:loss = 0.13962759, step = 25701 (0.418 sec)\n",
      "INFO:tensorflow:global_step/sec: 251.298\n",
      "INFO:tensorflow:loss = 0.05671083, step = 25801 (0.397 sec)\n",
      "INFO:tensorflow:global_step/sec: 342.209\n",
      "INFO:tensorflow:loss = 0.062316887, step = 25901 (0.291 sec)\n",
      "INFO:tensorflow:global_step/sec: 390.145\n",
      "INFO:tensorflow:loss = 0.022523243, step = 26001 (0.256 sec)\n",
      "INFO:tensorflow:global_step/sec: 417.781\n",
      "INFO:tensorflow:loss = 0.011097805, step = 26101 (0.240 sec)\n",
      "INFO:tensorflow:global_step/sec: 428.493\n",
      "INFO:tensorflow:loss = 0.027910361, step = 26201 (0.233 sec)\n",
      "INFO:tensorflow:global_step/sec: 421.287\n",
      "INFO:tensorflow:loss = 0.02215502, step = 26301 (0.237 sec)\n",
      "INFO:tensorflow:global_step/sec: 371.363\n",
      "INFO:tensorflow:loss = 0.08931889, step = 26401 (0.268 sec)\n",
      "INFO:tensorflow:global_step/sec: 326.604\n",
      "INFO:tensorflow:loss = 0.047747772, step = 26501 (0.306 sec)\n",
      "INFO:tensorflow:global_step/sec: 322.403\n",
      "INFO:tensorflow:loss = 0.025214467, step = 26601 (0.311 sec)\n",
      "INFO:tensorflow:global_step/sec: 294.038\n",
      "INFO:tensorflow:loss = 0.0392097, step = 26701 (0.339 sec)\n",
      "INFO:tensorflow:global_step/sec: 319.321\n",
      "INFO:tensorflow:loss = 0.04669817, step = 26801 (0.314 sec)\n",
      "INFO:tensorflow:global_step/sec: 307.57\n",
      "INFO:tensorflow:loss = 0.057249054, step = 26901 (0.326 sec)\n",
      "INFO:tensorflow:global_step/sec: 313.334\n",
      "INFO:tensorflow:loss = 0.04938224, step = 27001 (0.318 sec)\n",
      "INFO:tensorflow:global_step/sec: 342.211\n",
      "INFO:tensorflow:loss = 0.17988856, step = 27101 (0.291 sec)\n",
      "INFO:tensorflow:global_step/sec: 364.607\n",
      "INFO:tensorflow:loss = 0.009302229, step = 27201 (0.274 sec)\n",
      "INFO:tensorflow:global_step/sec: 379.8\n",
      "INFO:tensorflow:loss = 0.0120530315, step = 27301 (0.264 sec)\n",
      "INFO:tensorflow:global_step/sec: 360.675\n",
      "INFO:tensorflow:loss = 0.10115762, step = 27401 (0.276 sec)\n",
      "INFO:tensorflow:global_step/sec: 390.145\n",
      "INFO:tensorflow:loss = 0.08092889, step = 27501 (0.256 sec)\n",
      "INFO:tensorflow:global_step/sec: 388.633\n",
      "INFO:tensorflow:loss = 0.01709754, step = 27601 (0.258 sec)\n",
      "INFO:tensorflow:global_step/sec: 376.944\n",
      "INFO:tensorflow:loss = 0.06733431, step = 27701 (0.264 sec)\n",
      "INFO:tensorflow:global_step/sec: 380.141\n",
      "INFO:tensorflow:loss = 0.035793442, step = 27801 (0.264 sec)\n",
      "INFO:tensorflow:global_step/sec: 364.609\n",
      "INFO:tensorflow:loss = 0.01284758, step = 27901 (0.273 sec)\n",
      "INFO:tensorflow:global_step/sec: 372.741\n",
      "INFO:tensorflow:loss = 0.06213647, step = 28001 (0.268 sec)\n",
      "INFO:tensorflow:global_step/sec: 360.672\n",
      "INFO:tensorflow:loss = 0.024454746, step = 28101 (0.278 sec)\n",
      "INFO:tensorflow:global_step/sec: 361.978\n",
      "INFO:tensorflow:loss = 0.03991634, step = 28201 (0.275 sec)\n",
      "INFO:tensorflow:global_step/sec: 368.625\n",
      "INFO:tensorflow:loss = 0.006324237, step = 28301 (0.272 sec)\n",
      "INFO:tensorflow:global_step/sec: 343.385\n",
      "INFO:tensorflow:loss = 0.04233278, step = 28401 (0.291 sec)\n",
      "INFO:tensorflow:global_step/sec: 325.543\n",
      "INFO:tensorflow:loss = 0.15526932, step = 28501 (0.307 sec)\n",
      "INFO:tensorflow:global_step/sec: 349.362\n",
      "INFO:tensorflow:loss = 0.039946526, step = 28601 (0.286 sec)\n",
      "INFO:tensorflow:global_step/sec: 318.304\n",
      "INFO:tensorflow:loss = 0.008750571, step = 28701 (0.314 sec)\n",
      "INFO:tensorflow:global_step/sec: 333.119\n",
      "INFO:tensorflow:loss = 0.02259874, step = 28801 (0.299 sec)\n",
      "INFO:tensorflow:global_step/sec: 314.314\n",
      "INFO:tensorflow:loss = 0.022255136, step = 28901 (0.319 sec)\n",
      "INFO:tensorflow:global_step/sec: 382.707\n",
      "INFO:tensorflow:loss = 0.032574937, step = 29001 (0.261 sec)\n",
      "INFO:tensorflow:global_step/sec: 369.989\n",
      "INFO:tensorflow:loss = 0.045538604, step = 29101 (0.270 sec)\n",
      "INFO:tensorflow:global_step/sec: 361.975\n",
      "INFO:tensorflow:loss = 0.05743206, step = 29201 (0.275 sec)\n",
      "INFO:tensorflow:global_step/sec: 374.131\n",
      "INFO:tensorflow:loss = 0.08868504, step = 29301 (0.267 sec)\n",
      "INFO:tensorflow:global_step/sec: 376.946\n",
      "INFO:tensorflow:loss = 0.01766719, step = 29401 (0.266 sec)\n",
      "INFO:tensorflow:global_step/sec: 379.8\n",
      "INFO:tensorflow:loss = 0.11085363, step = 29501 (0.263 sec)\n",
      "INFO:tensorflow:global_step/sec: 375.533\n",
      "INFO:tensorflow:loss = 0.010971178, step = 29601 (0.265 sec)\n",
      "INFO:tensorflow:global_step/sec: 388.833\n",
      "INFO:tensorflow:loss = 0.041954577, step = 29701 (0.257 sec)\n",
      "INFO:tensorflow:global_step/sec: 310.422\n",
      "INFO:tensorflow:loss = 0.032791197, step = 29801 (0.324 sec)\n",
      "INFO:tensorflow:global_step/sec: 308.519\n",
      "INFO:tensorflow:loss = 0.023940204, step = 29901 (0.323 sec)\n",
      "INFO:tensorflow:global_step/sec: 281.649\n",
      "INFO:tensorflow:loss = 0.014047741, step = 30001 (0.356 sec)\n",
      "INFO:tensorflow:global_step/sec: 375.534\n",
      "INFO:tensorflow:loss = 0.014379914, step = 30101 (0.264 sec)\n",
      "INFO:tensorflow:global_step/sec: 390.143\n",
      "INFO:tensorflow:loss = 0.0400861, step = 30201 (0.256 sec)\n",
      "INFO:tensorflow:global_step/sec: 402.682\n",
      "INFO:tensorflow:loss = 0.020078532, step = 30301 (0.248 sec)\n",
      "INFO:tensorflow:global_step/sec: 376.944\n",
      "INFO:tensorflow:loss = 0.015933378, step = 30401 (0.265 sec)\n",
      "INFO:tensorflow:global_step/sec: 388.634\n",
      "INFO:tensorflow:loss = 0.060214918, step = 30501 (0.258 sec)\n",
      "INFO:tensorflow:global_step/sec: 404.304\n",
      "INFO:tensorflow:loss = 0.024153385, step = 30601 (0.247 sec)\n",
      "INFO:tensorflow:global_step/sec: 423.068\n",
      "INFO:tensorflow:loss = 0.025023004, step = 30701 (0.235 sec)\n",
      "INFO:tensorflow:global_step/sec: 432.186\n",
      "INFO:tensorflow:loss = 0.012652735, step = 30801 (0.231 sec)\n",
      "INFO:tensorflow:global_step/sec: 416.048\n",
      "INFO:tensorflow:loss = 0.003268211, step = 30901 (0.240 sec)\n",
      "INFO:tensorflow:global_step/sec: 409.251\n",
      "INFO:tensorflow:loss = 0.060189486, step = 31001 (0.244 sec)\n",
      "INFO:tensorflow:global_step/sec: 327.666\n",
      "INFO:tensorflow:loss = 0.025373666, step = 31101 (0.306 sec)\n",
      "INFO:tensorflow:global_step/sec: 321.376\n",
      "INFO:tensorflow:loss = 0.13712902, step = 31201 (0.310 sec)\n",
      "INFO:tensorflow:global_step/sec: 273.954\n",
      "INFO:tensorflow:loss = 0.057806704, step = 31301 (0.366 sec)\n",
      "INFO:tensorflow:global_step/sec: 364.608\n",
      "INFO:tensorflow:loss = 0.05472678, step = 31401 (0.273 sec)\n",
      "INFO:tensorflow:global_step/sec: 353.056\n",
      "INFO:tensorflow:loss = 0.019310173, step = 31501 (0.284 sec)\n"
     ]
    },
    {
     "name": "stdout",
     "output_type": "stream",
     "text": [
      "INFO:tensorflow:global_step/sec: 317.3\n",
      "INFO:tensorflow:loss = 0.009040911, step = 31601 (0.314 sec)\n",
      "INFO:tensorflow:global_step/sec: 344.56\n",
      "INFO:tensorflow:loss = 0.034830038, step = 31701 (0.291 sec)\n",
      "INFO:tensorflow:global_step/sec: 303.842\n",
      "INFO:tensorflow:loss = 0.027979763, step = 31801 (0.329 sec)\n",
      "INFO:tensorflow:global_step/sec: 311.389\n",
      "INFO:tensorflow:loss = 0.041561667, step = 31901 (0.321 sec)\n",
      "INFO:tensorflow:global_step/sec: 387.133\n",
      "INFO:tensorflow:loss = 0.022052608, step = 32001 (0.258 sec)\n",
      "INFO:tensorflow:global_step/sec: 410.932\n",
      "INFO:tensorflow:loss = 0.030578215, step = 32101 (0.243 sec)\n",
      "INFO:tensorflow:global_step/sec: 356.821\n",
      "INFO:tensorflow:loss = 0.03624834, step = 32201 (0.280 sec)\n",
      "INFO:tensorflow:global_step/sec: 368.632\n",
      "INFO:tensorflow:loss = 0.024639087, step = 32301 (0.271 sec)\n",
      "INFO:tensorflow:global_step/sec: 384.166\n",
      "INFO:tensorflow:loss = 0.026228962, step = 32401 (0.260 sec)\n",
      "INFO:tensorflow:global_step/sec: 396.313\n",
      "INFO:tensorflow:loss = 0.008638771, step = 32501 (0.252 sec)\n",
      "INFO:tensorflow:global_step/sec: 239.873\n",
      "INFO:tensorflow:loss = 0.010945223, step = 32601 (0.420 sec)\n",
      "INFO:tensorflow:global_step/sec: 228.397\n",
      "INFO:tensorflow:loss = 0.048434354, step = 32701 (0.437 sec)\n",
      "INFO:tensorflow:global_step/sec: 277.752\n",
      "INFO:tensorflow:loss = 0.05942736, step = 32801 (0.359 sec)\n",
      "INFO:tensorflow:global_step/sec: 317.303\n",
      "INFO:tensorflow:loss = 0.0038444556, step = 32901 (0.314 sec)\n",
      "INFO:tensorflow:global_step/sec: 314.553\n",
      "INFO:tensorflow:loss = 0.017568754, step = 33001 (0.318 sec)\n",
      "INFO:tensorflow:global_step/sec: 331.289\n",
      "INFO:tensorflow:loss = 0.058579147, step = 33101 (0.302 sec)\n",
      "INFO:tensorflow:global_step/sec: 355.543\n",
      "INFO:tensorflow:loss = 0.038512047, step = 33201 (0.279 sec)\n",
      "INFO:tensorflow:global_step/sec: 373.835\n",
      "INFO:tensorflow:loss = 0.018800028, step = 33301 (0.267 sec)\n",
      "INFO:tensorflow:global_step/sec: 401.205\n",
      "INFO:tensorflow:loss = 0.011886987, step = 33401 (0.249 sec)\n",
      "INFO:tensorflow:global_step/sec: 390.038\n",
      "INFO:tensorflow:loss = 0.02902399, step = 33501 (0.257 sec)\n",
      "INFO:tensorflow:global_step/sec: 418.148\n",
      "INFO:tensorflow:loss = 0.023996819, step = 33601 (0.238 sec)\n",
      "INFO:tensorflow:global_step/sec: 400.093\n",
      "INFO:tensorflow:loss = 0.02495781, step = 33701 (0.250 sec)\n",
      "INFO:tensorflow:global_step/sec: 427.803\n",
      "INFO:tensorflow:loss = 0.00506894, step = 33801 (0.234 sec)\n",
      "INFO:tensorflow:global_step/sec: 369.379\n",
      "INFO:tensorflow:loss = 0.058198564, step = 33901 (0.271 sec)\n",
      "INFO:tensorflow:global_step/sec: 405.814\n",
      "INFO:tensorflow:loss = 0.012582937, step = 34001 (0.246 sec)\n",
      "INFO:tensorflow:global_step/sec: 422.39\n",
      "INFO:tensorflow:loss = 0.013032524, step = 34101 (0.237 sec)\n",
      "INFO:tensorflow:global_step/sec: 404.03\n",
      "INFO:tensorflow:loss = 0.016245998, step = 34201 (0.248 sec)\n",
      "INFO:tensorflow:global_step/sec: 349.978\n",
      "INFO:tensorflow:loss = 0.02811109, step = 34301 (0.286 sec)\n",
      "INFO:tensorflow:global_step/sec: 380.161\n",
      "INFO:tensorflow:loss = 0.03850509, step = 34401 (0.263 sec)\n",
      "INFO:tensorflow:global_step/sec: 393.896\n",
      "INFO:tensorflow:loss = 0.17751716, step = 34501 (0.254 sec)\n",
      "INFO:tensorflow:global_step/sec: 400.482\n",
      "INFO:tensorflow:loss = 0.026190158, step = 34601 (0.250 sec)\n",
      "INFO:tensorflow:global_step/sec: 300.343\n",
      "INFO:tensorflow:loss = 0.04647975, step = 34701 (0.335 sec)\n",
      "INFO:tensorflow:global_step/sec: 280.076\n",
      "INFO:tensorflow:loss = 0.0017574364, step = 34801 (0.357 sec)\n",
      "INFO:tensorflow:global_step/sec: 270.263\n",
      "INFO:tensorflow:loss = 0.030217882, step = 34901 (0.370 sec)\n",
      "INFO:tensorflow:global_step/sec: 211.534\n",
      "INFO:tensorflow:loss = 0.007798545, step = 35001 (0.474 sec)\n",
      "INFO:tensorflow:global_step/sec: 219.691\n",
      "INFO:tensorflow:loss = 0.066769615, step = 35101 (0.454 sec)\n",
      "INFO:tensorflow:global_step/sec: 260.088\n",
      "INFO:tensorflow:loss = 0.021578956, step = 35201 (0.384 sec)\n",
      "INFO:tensorflow:global_step/sec: 318.306\n",
      "INFO:tensorflow:loss = 0.0011991791, step = 35301 (0.314 sec)\n",
      "INFO:tensorflow:global_step/sec: 358.397\n",
      "INFO:tensorflow:loss = 0.024068113, step = 35401 (0.279 sec)\n",
      "INFO:tensorflow:global_step/sec: 364.192\n",
      "INFO:tensorflow:loss = 0.031258497, step = 35501 (0.274 sec)\n",
      "INFO:tensorflow:global_step/sec: 361.464\n",
      "INFO:tensorflow:loss = 0.014054776, step = 35601 (0.291 sec)\n",
      "INFO:tensorflow:global_step/sec: 410.202\n",
      "INFO:tensorflow:loss = 0.014425615, step = 35701 (0.244 sec)\n",
      "INFO:tensorflow:global_step/sec: 392.76\n",
      "INFO:tensorflow:loss = 0.008600427, step = 35801 (0.239 sec)\n",
      "INFO:tensorflow:global_step/sec: 416.601\n",
      "INFO:tensorflow:loss = 0.01966412, step = 35901 (0.240 sec)\n",
      "INFO:tensorflow:global_step/sec: 299.562\n",
      "INFO:tensorflow:loss = 0.018851167, step = 36001 (0.336 sec)\n",
      "INFO:tensorflow:global_step/sec: 318.311\n",
      "INFO:tensorflow:loss = 0.026448637, step = 36101 (0.314 sec)\n",
      "INFO:tensorflow:global_step/sec: 324.49\n",
      "INFO:tensorflow:loss = 0.010000872, step = 36201 (0.308 sec)\n",
      "INFO:tensorflow:global_step/sec: 258.806\n",
      "INFO:tensorflow:loss = 0.048433557, step = 36301 (0.388 sec)\n",
      "INFO:tensorflow:global_step/sec: 154.733\n",
      "INFO:tensorflow:loss = 0.0065266676, step = 36401 (0.648 sec)\n",
      "INFO:tensorflow:global_step/sec: 223.314\n",
      "INFO:tensorflow:loss = 0.0013425347, step = 36501 (0.444 sec)\n",
      "INFO:tensorflow:global_step/sec: 246.964\n",
      "INFO:tensorflow:loss = 0.004450749, step = 36601 (0.405 sec)\n",
      "INFO:tensorflow:global_step/sec: 293.179\n",
      "INFO:tensorflow:loss = 0.021289358, step = 36701 (0.342 sec)\n",
      "INFO:tensorflow:global_step/sec: 325.36\n",
      "INFO:tensorflow:loss = 0.021690767, step = 36801 (0.306 sec)\n",
      "INFO:tensorflow:global_step/sec: 303.839\n",
      "INFO:tensorflow:loss = 0.11704397, step = 36901 (0.330 sec)\n",
      "INFO:tensorflow:global_step/sec: 330.578\n",
      "INFO:tensorflow:loss = 0.03727936, step = 37001 (0.301 sec)\n",
      "INFO:tensorflow:global_step/sec: 327.153\n",
      "INFO:tensorflow:loss = 0.01058097, step = 37101 (0.306 sec)\n",
      "INFO:tensorflow:global_step/sec: 378.283\n",
      "INFO:tensorflow:loss = 0.033716947, step = 37201 (0.263 sec)\n",
      "INFO:tensorflow:global_step/sec: 421.973\n",
      "INFO:tensorflow:loss = 0.0074433484, step = 37301 (0.237 sec)\n",
      "INFO:tensorflow:global_step/sec: 400.09\n",
      "INFO:tensorflow:loss = 0.080016196, step = 37401 (0.250 sec)\n",
      "INFO:tensorflow:global_step/sec: 417.636\n",
      "INFO:tensorflow:loss = 0.031312607, step = 37501 (0.239 sec)\n",
      "INFO:tensorflow:global_step/sec: 426.765\n",
      "INFO:tensorflow:loss = 0.029172175, step = 37601 (0.234 sec)\n",
      "INFO:tensorflow:global_step/sec: 400.095\n",
      "INFO:tensorflow:loss = 0.0073100105, step = 37701 (0.250 sec)\n",
      "INFO:tensorflow:global_step/sec: 426.765\n",
      "INFO:tensorflow:loss = 0.03131614, step = 37801 (0.234 sec)\n",
      "INFO:tensorflow:global_step/sec: 426.767\n",
      "INFO:tensorflow:loss = 0.024093263, step = 37901 (0.250 sec)\n",
      "INFO:tensorflow:global_step/sec: 375.563\n",
      "INFO:tensorflow:loss = 0.027668364, step = 38001 (0.251 sec)\n",
      "INFO:tensorflow:global_step/sec: 369.99\n",
      "INFO:tensorflow:loss = 0.015566405, step = 38101 (0.270 sec)\n",
      "INFO:tensorflow:global_step/sec: 369.443\n",
      "INFO:tensorflow:loss = 0.016518788, step = 38201 (0.270 sec)\n",
      "INFO:tensorflow:global_step/sec: 351.329\n",
      "INFO:tensorflow:loss = 0.019756604, step = 38301 (0.286 sec)\n",
      "INFO:tensorflow:global_step/sec: 404.305\n",
      "INFO:tensorflow:loss = 0.016426852, step = 38401 (0.247 sec)\n",
      "INFO:tensorflow:global_step/sec: 410.93\n",
      "INFO:tensorflow:loss = 0.011490848, step = 38501 (0.243 sec)\n",
      "INFO:tensorflow:global_step/sec: 394.754\n",
      "INFO:tensorflow:loss = 0.030829165, step = 38601 (0.254 sec)\n",
      "INFO:tensorflow:global_step/sec: 349.363\n",
      "INFO:tensorflow:loss = 0.020233406, step = 38701 (0.286 sec)\n",
      "INFO:tensorflow:global_step/sec: 407.593\n",
      "INFO:tensorflow:loss = 0.0186398, step = 38801 (0.245 sec)\n",
      "INFO:tensorflow:global_step/sec: 397.885\n",
      "INFO:tensorflow:loss = 0.025386412, step = 38901 (0.251 sec)\n",
      "INFO:tensorflow:global_step/sec: 407.59\n",
      "INFO:tensorflow:loss = 0.0010698327, step = 39001 (0.244 sec)\n",
      "INFO:tensorflow:global_step/sec: 412.624\n",
      "INFO:tensorflow:loss = 0.041235358, step = 39101 (0.243 sec)\n",
      "INFO:tensorflow:global_step/sec: 399.472\n",
      "INFO:tensorflow:loss = 0.033865277, step = 39201 (0.250 sec)\n",
      "INFO:tensorflow:global_step/sec: 409.253\n",
      "INFO:tensorflow:loss = 0.008979021, step = 39301 (0.244 sec)\n",
      "INFO:tensorflow:global_step/sec: 405.94\n",
      "INFO:tensorflow:loss = 0.02799711, step = 39401 (0.246 sec)\n",
      "INFO:tensorflow:global_step/sec: 399.471\n",
      "INFO:tensorflow:loss = 0.007776591, step = 39501 (0.249 sec)\n",
      "INFO:tensorflow:global_step/sec: 410.934\n",
      "INFO:tensorflow:loss = 0.005414945, step = 39601 (0.243 sec)\n"
     ]
    },
    {
     "name": "stdout",
     "output_type": "stream",
     "text": [
      "INFO:tensorflow:global_step/sec: 399.471\n",
      "INFO:tensorflow:loss = 0.006464257, step = 39701 (0.250 sec)\n",
      "INFO:tensorflow:global_step/sec: 401.069\n",
      "INFO:tensorflow:loss = 0.015484757, step = 39801 (0.250 sec)\n",
      "INFO:tensorflow:global_step/sec: 312.359\n",
      "INFO:tensorflow:loss = 0.021739487, step = 39901 (0.320 sec)\n",
      "INFO:tensorflow:global_step/sec: 399.47\n",
      "INFO:tensorflow:loss = 0.057504572, step = 40001 (0.249 sec)\n",
      "INFO:tensorflow:global_step/sec: 407.592\n",
      "INFO:tensorflow:loss = 0.009671077, step = 40101 (0.246 sec)\n",
      "INFO:tensorflow:global_step/sec: 405.939\n",
      "INFO:tensorflow:loss = 0.004011615, step = 40201 (0.246 sec)\n",
      "INFO:tensorflow:global_step/sec: 405.941\n",
      "INFO:tensorflow:loss = 0.014125947, step = 40301 (0.246 sec)\n",
      "INFO:tensorflow:global_step/sec: 410.93\n",
      "INFO:tensorflow:loss = 0.055029336, step = 40401 (0.243 sec)\n",
      "INFO:tensorflow:global_step/sec: 402.682\n",
      "INFO:tensorflow:loss = 0.020526843, step = 40501 (0.247 sec)\n",
      "INFO:tensorflow:global_step/sec: 407.59\n",
      "INFO:tensorflow:loss = 0.029472917, step = 40601 (0.245 sec)\n",
      "INFO:tensorflow:global_step/sec: 404.305\n",
      "INFO:tensorflow:loss = 0.028860552, step = 40701 (0.247 sec)\n",
      "INFO:tensorflow:global_step/sec: 409.254\n",
      "INFO:tensorflow:loss = 0.020705493, step = 40801 (0.245 sec)\n",
      "INFO:tensorflow:global_step/sec: 387.133\n",
      "INFO:tensorflow:loss = 0.008540189, step = 40901 (0.258 sec)\n",
      "INFO:tensorflow:global_step/sec: 409.253\n",
      "INFO:tensorflow:loss = 0.009889865, step = 41001 (0.243 sec)\n",
      "INFO:tensorflow:global_step/sec: 405.936\n",
      "INFO:tensorflow:loss = 0.05146386, step = 41101 (0.247 sec)\n",
      "INFO:tensorflow:global_step/sec: 409.259\n",
      "INFO:tensorflow:loss = 0.0004964669, step = 41201 (0.243 sec)\n",
      "INFO:tensorflow:global_step/sec: 402.68\n",
      "INFO:tensorflow:loss = 0.00089100725, step = 41301 (0.249 sec)\n",
      "INFO:tensorflow:global_step/sec: 391.668\n",
      "INFO:tensorflow:loss = 0.0238796, step = 41401 (0.254 sec)\n",
      "INFO:tensorflow:global_step/sec: 404.988\n",
      "INFO:tensorflow:loss = 0.05745306, step = 41501 (0.262 sec)\n",
      "INFO:tensorflow:global_step/sec: 425.126\n",
      "INFO:tensorflow:loss = 0.03633121, step = 41601 (0.220 sec)\n",
      "INFO:tensorflow:global_step/sec: 427.934\n",
      "INFO:tensorflow:loss = 0.032969497, step = 41701 (0.234 sec)\n",
      "INFO:tensorflow:global_step/sec: 428.548\n",
      "INFO:tensorflow:loss = 0.008806627, step = 41801 (0.233 sec)\n",
      "INFO:tensorflow:global_step/sec: 429.254\n",
      "INFO:tensorflow:loss = 0.010293588, step = 41901 (0.233 sec)\n",
      "INFO:tensorflow:global_step/sec: 427.996\n",
      "INFO:tensorflow:loss = 0.0066006477, step = 42001 (0.234 sec)\n",
      "INFO:tensorflow:global_step/sec: 461.45\n",
      "INFO:tensorflow:loss = 0.0039975615, step = 42101 (0.233 sec)\n",
      "INFO:tensorflow:global_step/sec: 400.289\n",
      "INFO:tensorflow:loss = 0.037757464, step = 42201 (0.233 sec)\n",
      "INFO:tensorflow:global_step/sec: 437.74\n",
      "INFO:tensorflow:loss = 0.0021582155, step = 42301 (0.230 sec)\n",
      "INFO:tensorflow:global_step/sec: 451.155\n",
      "INFO:tensorflow:loss = 0.008406945, step = 42401 (0.220 sec)\n",
      "INFO:tensorflow:global_step/sec: 430.888\n",
      "INFO:tensorflow:loss = 0.04012407, step = 42501 (0.233 sec)\n",
      "INFO:tensorflow:global_step/sec: 426.163\n",
      "INFO:tensorflow:loss = 0.018011326, step = 42601 (0.234 sec)\n",
      "INFO:tensorflow:global_step/sec: 428.506\n",
      "INFO:tensorflow:loss = 0.030929476, step = 42701 (0.233 sec)\n",
      "INFO:tensorflow:global_step/sec: 431.117\n",
      "INFO:tensorflow:loss = 0.01015777, step = 42801 (0.233 sec)\n",
      "INFO:tensorflow:global_step/sec: 458.798\n",
      "INFO:tensorflow:loss = 0.0070899376, step = 42901 (0.217 sec)\n",
      "INFO:tensorflow:global_step/sec: 428.339\n",
      "INFO:tensorflow:loss = 0.028595096, step = 43001 (0.233 sec)\n",
      "INFO:tensorflow:global_step/sec: 428.947\n",
      "INFO:tensorflow:loss = 0.019028265, step = 43101 (0.233 sec)\n",
      "INFO:tensorflow:global_step/sec: 428.13\n",
      "INFO:tensorflow:loss = 0.022430377, step = 43201 (0.234 sec)\n",
      "INFO:tensorflow:global_step/sec: 428.75\n",
      "INFO:tensorflow:loss = 0.016302897, step = 43301 (0.233 sec)\n",
      "INFO:tensorflow:global_step/sec: 461.969\n",
      "INFO:tensorflow:loss = 0.015442946, step = 43401 (0.233 sec)\n",
      "INFO:tensorflow:global_step/sec: 399.774\n",
      "INFO:tensorflow:loss = 0.003237773, step = 43501 (0.233 sec)\n",
      "INFO:tensorflow:global_step/sec: 428.481\n",
      "INFO:tensorflow:loss = 0.05131006, step = 43601 (0.233 sec)\n",
      "INFO:tensorflow:global_step/sec: 428.787\n",
      "INFO:tensorflow:loss = 0.0017829014, step = 43701 (0.233 sec)\n",
      "INFO:tensorflow:global_step/sec: 428.533\n",
      "INFO:tensorflow:loss = 0.022945147, step = 43801 (0.233 sec)\n",
      "INFO:tensorflow:global_step/sec: 461.543\n",
      "INFO:tensorflow:loss = 0.000727379, step = 43901 (0.217 sec)\n",
      "INFO:tensorflow:Saving checkpoints for 44000 into C:\\Users\\ilyar\\AppData\\Local\\Temp\\tmpilrph7s0\\model.ckpt.\n",
      "INFO:tensorflow:Loss for final step: 0.022371216.\n"
     ]
    },
    {
     "data": {
      "text/plain": [
       "<tensorflow.python.estimator.canned.dnn.DNNClassifier at 0x28372748f28>"
      ]
     },
     "execution_count": 10,
     "metadata": {},
     "output_type": "execute_result"
    }
   ],
   "source": [
    "feature_cols = [tf.feature_column.numeric_column(\"X\", shape=[28 * 28])]\n",
    "dnn_clf = tf.estimator.DNNClassifier(hidden_units=[300,100], n_classes=10,\n",
    "                                     feature_columns=feature_cols)\n",
    "\n",
    "input_fn = tf.estimator.inputs.numpy_input_fn(\n",
    "    x={\"X\": X_train}, y=y_train, num_epochs=40, batch_size=50, shuffle=True)\n",
    "dnn_clf.train(input_fn=input_fn)"
   ]
  },
  {
   "cell_type": "markdown",
   "metadata": {},
   "source": [
    "Calculate accuracy using testing data. Under the hood, the DNNClassifier class creates all the neuron layers, based on the ReLU activation function (we can change this by setting the *activation_fn* hyper‐parameter). The output layer relies on the softmax function, and the cost function is cross entropy."
   ]
  },
  {
   "cell_type": "code",
   "execution_count": 11,
   "metadata": {},
   "outputs": [
    {
     "name": "stdout",
     "output_type": "stream",
     "text": [
      "INFO:tensorflow:Calling model_fn.\n",
      "INFO:tensorflow:Done calling model_fn.\n",
      "INFO:tensorflow:Starting evaluation at 2018-11-14-20:30:17\n",
      "INFO:tensorflow:Graph was finalized.\n",
      "INFO:tensorflow:Restoring parameters from C:\\Users\\ilyar\\AppData\\Local\\Temp\\tmpilrph7s0\\model.ckpt-44000\n",
      "INFO:tensorflow:Running local_init_op.\n",
      "INFO:tensorflow:Done running local_init_op.\n",
      "INFO:tensorflow:Finished evaluation at 2018-11-14-20:30:17\n",
      "INFO:tensorflow:Saving dict for global step 44000: accuracy = 0.9795, average_loss = 0.102027334, global_step = 44000, loss = 12.914853\n",
      "INFO:tensorflow:Saving 'checkpoint_path' summary for global step 44000: C:\\Users\\ilyar\\AppData\\Local\\Temp\\tmpilrph7s0\\model.ckpt-44000\n"
     ]
    }
   ],
   "source": [
    "test_input_fn = tf.estimator.inputs.numpy_input_fn(\n",
    "    x={\"X\": X_test}, y=y_test, shuffle=False)\n",
    "eval_results = dnn_clf.evaluate(input_fn=test_input_fn)"
   ]
  },
  {
   "cell_type": "code",
   "execution_count": 12,
   "metadata": {},
   "outputs": [
    {
     "data": {
      "text/plain": [
       "{'accuracy': 0.9795,\n",
       " 'average_loss': 0.102027334,\n",
       " 'global_step': 44000,\n",
       " 'loss': 12.914853}"
      ]
     },
     "execution_count": 12,
     "metadata": {},
     "output_type": "execute_result"
    }
   ],
   "source": [
    "eval_results"
   ]
  },
  {
   "cell_type": "code",
   "execution_count": 13,
   "metadata": {},
   "outputs": [
    {
     "name": "stdout",
     "output_type": "stream",
     "text": [
      "INFO:tensorflow:Calling model_fn.\n",
      "INFO:tensorflow:Done calling model_fn.\n",
      "INFO:tensorflow:Graph was finalized.\n",
      "INFO:tensorflow:Restoring parameters from C:\\Users\\ilyar\\AppData\\Local\\Temp\\tmpilrph7s0\\model.ckpt-44000\n",
      "INFO:tensorflow:Running local_init_op.\n",
      "INFO:tensorflow:Done running local_init_op.\n"
     ]
    },
    {
     "data": {
      "text/plain": [
       "{'class_ids': array([7], dtype=int64),\n",
       " 'classes': array([b'7'], dtype=object),\n",
       " 'logits': array([ -7.329111  ,  -0.8621856 ,  -0.71679497,   8.969017  ,\n",
       "         -2.5210323 ,  -8.930429  , -19.881777  ,  25.501575  ,\n",
       "         -1.6607108 ,   1.7658306 ], dtype=float32),\n",
       " 'probabilities': array([5.5183989e-15, 3.5511060e-12, 4.1068264e-12, 6.6069504e-08,\n",
       "        6.7598341e-13, 1.1126777e-15, 1.9510108e-20, 9.9999988e-01,\n",
       "        1.5979702e-12, 4.9169648e-11], dtype=float32)}"
      ]
     },
     "execution_count": 13,
     "metadata": {},
     "output_type": "execute_result"
    }
   ],
   "source": [
    "y_pred_iter = dnn_clf.predict(input_fn=test_input_fn)\n",
    "y_pred = list(y_pred_iter)\n",
    "y_pred[0]"
   ]
  },
  {
   "cell_type": "markdown",
   "metadata": {
    "collapsed": true
   },
   "source": [
    "## Using plain TensorFlow"
   ]
  },
  {
   "cell_type": "markdown",
   "metadata": {},
   "source": [
    "Next we will reconstruct the neural network using lower-level Python code. First we will constuct a TensorFlowGraph and then we will run the graph to train the model.\n",
    "\n",
    "We specify the number of inputs, number of neurons in each layers, and the number of outputs."
   ]
  },
  {
   "cell_type": "code",
   "execution_count": 14,
   "metadata": {},
   "outputs": [],
   "source": [
    "import tensorflow as tf\n",
    "\n",
    "n_inputs = 28*28  # MNIST\n",
    "n_hidden1 = 300\n",
    "n_hidden2 = 100\n",
    "n_outputs = 10"
   ]
  },
  {
   "cell_type": "markdown",
   "metadata": {},
   "source": [
    "1. We construct placeholder nodes to represent the training data and targets. The shape of X is defined only as a 2D tensor.\n",
    "2. The number of features is going to be 28 x 28 (one feature per pixel), but we are uncertain about the number of instances. \n",
    "3. y will be a 1D tensor with one entry per instance"
   ]
  },
  {
   "cell_type": "code",
   "execution_count": 15,
   "metadata": {},
   "outputs": [],
   "source": [
    "reset_graph()\n",
    "\n",
    "X = tf.placeholder(tf.float32, shape=(None, n_inputs), name=\"X\")\n",
    "y = tf.placeholder(tf.int32, shape=(None), name=\"y\")"
   ]
  },
  {
   "cell_type": "markdown",
   "metadata": {},
   "source": [
    "* The placeholder X is an input layer, it will be populated by training batch. All instances in a batch will be processed simultaneously. \n",
    "* Two hidden layers are almost identical with the only difference being the number of neurons.\n",
    "* The output layers uses softmax (multi-nomial logit) instead of ReLU to predict class. "
   ]
  },
  {
   "cell_type": "code",
   "execution_count": 16,
   "metadata": {},
   "outputs": [],
   "source": [
    "def neuron_layer(X, n_neurons, name, activation=None):\n",
    "    with tf.name_scope(name):\n",
    "        # Number of features\n",
    "        n_inputs = int(X.get_shape()[1])\n",
    "        # Set up standard deviation of the initial weights\n",
    "        stddev = 2 / np.sqrt(n_inputs)\n",
    "        # Initialize initial weights using truncated normal\n",
    "        init = tf.truncated_normal((n_inputs, n_neurons), stddev=stddev)\n",
    "        # Set weights (coefficients) variable for a layer\n",
    "        W = tf.Variable(init, name=\"kernel\")\n",
    "        # Set bias variable\n",
    "        b = tf.Variable(tf.zeros([n_neurons]), name=\"bias\")\n",
    "        # Calculate expectation Z = X*W + b\n",
    "        Z = tf.matmul(X, W) + b\n",
    "        # Return eighter Z or an activation function (e.g., ReLU) of Z.\n",
    "        if activation is not None:\n",
    "            return activation(Z)\n",
    "        else:\n",
    "            return Z"
   ]
  },
  {
   "cell_type": "markdown",
   "metadata": {},
   "source": [
    "Weights are initiated from truncated $N(0,2/\\sqrt{n_{inputs}}$ distribution as it is found to be the most efficient. \n",
    "\n",
    "Now we add neuron layers to form a network. The input in the subsequent layer is the output of the previous layer.\n",
    "\n",
    "TensorFlow comes with many handy functions to create standard neural network layers.For example, *fully_connected()* function creates a fully connected layer, where all the inputs are connected to all the neurons in the layer. It creates the weights and biases variables, with the proper initialization strategy, and it uses the ReLU activation function by default."
   ]
  },
  {
   "cell_type": "code",
   "execution_count": 17,
   "metadata": {},
   "outputs": [],
   "source": [
    "with tf.name_scope(\"dnn\"):\n",
    "    hidden1 = neuron_layer(X, n_hidden1, name=\"hidden1\",\n",
    "                           activation=tf.nn.relu)\n",
    "    hidden2 = neuron_layer(hidden1, n_hidden2, name=\"hidden2\",\n",
    "                           activation=tf.nn.relu)\n",
    "    logits = neuron_layer(hidden2, n_outputs, name=\"outputs\")"
   ]
  },
  {
   "cell_type": "markdown",
   "metadata": {},
   "source": [
    "Next we define the cross entropy cost function to train the network. Cross entropy will penalize models that estimate a low probability for the target class. TensorFlow provides several functions to compute cross entropy. We will use sparse_soft max_cross_entropy_with_logits(): it computes the cross entropy based on the “logits” -- probabilities of each class. We TensorFlow’s reduce_mean() to complete enthropy calculation. \n",
    "\n",
    "The *sparse_softmax_cross_entropy_with_logits()* function is equivalent to applying the softmax activation function and then computing the cross entropy, but it's more efficient for very low probabilities. The function *softmax_cross_entropy_with_logits()* is designed for binary (one hot) data."
   ]
  },
  {
   "cell_type": "code",
   "execution_count": 18,
   "metadata": {},
   "outputs": [],
   "source": [
    "with tf.name_scope(\"loss\"):\n",
    "    xentropy = tf.nn.sparse_softmax_cross_entropy_with_logits(labels=y,\n",
    "                                                              logits=logits)\n",
    "    loss = tf.reduce_mean(xentropy, name=\"loss\")"
   ]
  },
  {
   "cell_type": "markdown",
   "metadata": {},
   "source": [
    "Next we define a *GradientDescentOptimizer* that will tweak the model parameters to minimize the cost function."
   ]
  },
  {
   "cell_type": "code",
   "execution_count": 19,
   "metadata": {},
   "outputs": [],
   "source": [
    "learning_rate = 0.01\n",
    "\n",
    "with tf.name_scope(\"train\"):\n",
    "    optimizer = tf.train.GradientDescentOptimizer(learning_rate)\n",
    "    training_op = optimizer.minimize(loss)"
   ]
  },
  {
   "cell_type": "markdown",
   "metadata": {},
   "source": [
    "Lastly, we specify how to evaluate the model using accuracy. For each instance,whether the highest predicts probability (logit) corresponds to the correct target class. *in_top_k()* returns a vector of 0/1 values, which we later use to compute average accuracy. "
   ]
  },
  {
   "cell_type": "code",
   "execution_count": 20,
   "metadata": {},
   "outputs": [],
   "source": [
    "with tf.name_scope(\"eval\"):\n",
    "    correct = tf.nn.in_top_k(logits, y, 1)\n",
    "    accuracy = tf.reduce_mean(tf.cast(correct, tf.float32))"
   ]
  },
  {
   "cell_type": "markdown",
   "metadata": {},
   "source": [
    "Before running, we need to initialize all variables and save out model."
   ]
  },
  {
   "cell_type": "code",
   "execution_count": 21,
   "metadata": {},
   "outputs": [],
   "source": [
    "init = tf.global_variables_initializer()\n",
    "saver = tf.train.Saver()"
   ]
  },
  {
   "cell_type": "markdown",
   "metadata": {},
   "source": [
    "# Execution Phase\n",
    "We define the number of epochs and the number of batches. "
   ]
  },
  {
   "cell_type": "code",
   "execution_count": 22,
   "metadata": {},
   "outputs": [],
   "source": [
    "n_epochs = 40\n",
    "batch_size = 50"
   ]
  },
  {
   "cell_type": "code",
   "execution_count": 23,
   "metadata": {},
   "outputs": [],
   "source": [
    "# Split data into batches.\n",
    "def shuffle_batch(X, y, batch_size):\n",
    "    rnd_idx = np.random.permutation(len(X))\n",
    "    n_batches = len(X) // batch_size\n",
    "    for batch_idx in np.array_split(rnd_idx, n_batches):\n",
    "        X_batch, y_batch = X[batch_idx], y[batch_idx]\n",
    "        yield X_batch, y_batch"
   ]
  },
  {
   "cell_type": "markdown",
   "metadata": {},
   "source": [
    "* init node that initializes all the variables.\n",
    "* Then it runs the main training loop: at each epoch, the code iterates through a number of mini-batches that corresponds to the training set size. \n",
    "* Each mini-batch is fetched via the *next_batch()* method, and then the code simply runs the training operation, feeding it the current mini-batch input data and targets.\n",
    "* Next, at the end of each epoch, the code evaluates the model on the last mini-batch and on the full training set, and it prints out the result. \n",
    "* Finally, the model parameters are saved to disk."
   ]
  },
  {
   "cell_type": "code",
   "execution_count": 24,
   "metadata": {
    "scrolled": true
   },
   "outputs": [
    {
     "ename": "SyntaxError",
     "evalue": "invalid syntax (<ipython-input-24-f3bbc3626bde>, line 12)",
     "output_type": "error",
     "traceback": [
      "\u001b[1;36m  File \u001b[1;32m\"<ipython-input-24-f3bbc3626bde>\"\u001b[1;36m, line \u001b[1;32m12\u001b[0m\n\u001b[1;33m    We can use trained network. To do that, we reuse the same construction phase, but change the execution phase like this:\u001b[0m\n\u001b[1;37m         ^\u001b[0m\n\u001b[1;31mSyntaxError\u001b[0m\u001b[1;31m:\u001b[0m invalid syntax\n"
     ]
    }
   ],
   "source": [
    "with tf.Session() as sess:\n",
    "    init.run()\n",
    "    for epoch in range(n_epochs):\n",
    "        for X_batch, y_batch in shuffle_batch(X_train, y_train, batch_size):\n",
    "            sess.run(training_op, feed_dict={X: X_batch, y: y_batch})\n",
    "        acc_batch = accuracy.eval(feed_dict={X: X_batch, y: y_batch})\n",
    "        acc_val = accuracy.eval(feed_dict={X: X_valid, y: y_valid})\n",
    "        print(epoch, \"Batch accuracy:\", acc_batch, \"Val accuracy:\", acc_val)\n",
    "\n",
    "    save_path = saver.save(sess, \"./my_model_final.ckpt\")"
   ]
  },
  {
   "cell_type": "markdown",
   "metadata": {},
   "source": [
    "Let's make predictions:\n",
    "1. Load parameters from the disk\n",
    "2. X_new_scaled is the data we want to predict, make sure it is scaled.\n",
    "3. Logit are the probabilities\n",
    "4. Argmax function gives predicted class."
   ]
  },
  {
   "cell_type": "code",
   "execution_count": null,
   "metadata": {},
   "outputs": [],
   "source": [
    "with tf.Session() as sess:\n",
    "    saver.restore(sess, \"./my_model_final.ckpt\") # or better, use save_path\n",
    "    X_new_scaled = X_test[:20]\n",
    "    Z = logits.eval(feed_dict={X: X_new_scaled})\n",
    "    y_pred = np.argmax(Z, axis=1)"
   ]
  },
  {
   "cell_type": "markdown",
   "metadata": {},
   "source": []
  },
  {
   "cell_type": "code",
   "execution_count": null,
   "metadata": {},
   "outputs": [],
   "source": [
    "print(\"Predicted classes:\", y_pred)\n",
    "print(\"Actual classes:   \", y_test[:20])"
   ]
  },
  {
   "cell_type": "code",
   "execution_count": null,
   "metadata": {},
   "outputs": [],
   "source": [
    "from tensorflow_graph_in_jupyter import show_graph"
   ]
  },
  {
   "cell_type": "code",
   "execution_count": null,
   "metadata": {},
   "outputs": [],
   "source": [
    "show_graph(tf.get_default_graph())"
   ]
  },
  {
   "cell_type": "markdown",
   "metadata": {},
   "source": [
    "# Fine-Tuning Neural Networks:\n",
    "\n",
    "1. There are lot hyperparemeters to estimate. Use randomized grid search to narrow-down the parameters space.\n",
    "2. Complex relationships are better approximated by a lot of layers. If the network has many layers it may not need many nodes.\n",
    "3. Try to add new layers if it imroves the fit.\n",
    "4. Recycle lower layers from the similar models\n",
    "5. Build your network as a funnel between features and outputs. Lower levels tend to have more neurons than upper one.\n",
    "6. ReLU is good default activation function for classification. Regression problems don't need an activation function.\n"
   ]
  },
  {
   "cell_type": "markdown",
   "metadata": {},
   "source": [
    "## Using `dense()` instead of `neuron_layer()`"
   ]
  },
  {
   "cell_type": "markdown",
   "metadata": {},
   "source": [
    "Note: previous releases of the book used `tensorflow.contrib.layers.fully_connected()` rather than `tf.layers.dense()` (which did not exist when this chapter was written). It is now preferable to use `tf.layers.dense()`, because anything in the contrib module may change or be deleted without notice. The `dense()` function is almost identical to the `fully_connected()` function, except for a few minor differences:\n",
    "* several parameters are renamed: `scope` becomes `name`, `activation_fn` becomes `activation` (and similarly the `_fn` suffix is removed from other parameters such as `normalizer_fn`), `weights_initializer` becomes `kernel_initializer`, etc.\n",
    "* the default `activation` is now `None` rather than `tf.nn.relu`.\n",
    "* a few more differences are presented in chapter 11."
   ]
  },
  {
   "cell_type": "code",
   "execution_count": null,
   "metadata": {},
   "outputs": [],
   "source": [
    "n_inputs = 28*28  # MNIST\n",
    "n_hidden1 = 300\n",
    "n_hidden2 = 100\n",
    "n_outputs = 10"
   ]
  },
  {
   "cell_type": "code",
   "execution_count": null,
   "metadata": {},
   "outputs": [],
   "source": [
    "reset_graph()\n",
    "\n",
    "X = tf.placeholder(tf.float32, shape=(None, n_inputs), name=\"X\")\n",
    "y = tf.placeholder(tf.int32, shape=(None), name=\"y\") "
   ]
  },
  {
   "cell_type": "code",
   "execution_count": null,
   "metadata": {},
   "outputs": [],
   "source": [
    "with tf.name_scope(\"dnn\"):\n",
    "    hidden1 = tf.layers.dense(X, n_hidden1, name=\"hidden1\",\n",
    "                              activation=tf.nn.relu)\n",
    "    hidden2 = tf.layers.dense(hidden1, n_hidden2, name=\"hidden2\",\n",
    "                              activation=tf.nn.relu)\n",
    "    logits = tf.layers.dense(hidden2, n_outputs, name=\"outputs\")\n",
    "    y_proba = tf.nn.softmax(logits)"
   ]
  },
  {
   "cell_type": "code",
   "execution_count": null,
   "metadata": {},
   "outputs": [],
   "source": [
    "with tf.name_scope(\"loss\"):\n",
    "    xentropy = tf.nn.sparse_softmax_cross_entropy_with_logits(labels=y, logits=logits)\n",
    "    loss = tf.reduce_mean(xentropy, name=\"loss\")"
   ]
  },
  {
   "cell_type": "code",
   "execution_count": null,
   "metadata": {},
   "outputs": [],
   "source": [
    "learning_rate = 0.01\n",
    "\n",
    "with tf.name_scope(\"train\"):\n",
    "    optimizer = tf.train.GradientDescentOptimizer(learning_rate)\n",
    "    training_op = optimizer.minimize(loss)"
   ]
  },
  {
   "cell_type": "code",
   "execution_count": null,
   "metadata": {},
   "outputs": [],
   "source": [
    "with tf.name_scope(\"eval\"):\n",
    "    correct = tf.nn.in_top_k(logits, y, 1)\n",
    "    accuracy = tf.reduce_mean(tf.cast(correct, tf.float32))"
   ]
  },
  {
   "cell_type": "code",
   "execution_count": null,
   "metadata": {},
   "outputs": [],
   "source": [
    "init = tf.global_variables_initializer()\n",
    "saver = tf.train.Saver()"
   ]
  },
  {
   "cell_type": "code",
   "execution_count": null,
   "metadata": {},
   "outputs": [],
   "source": [
    "n_epochs = 20\n",
    "n_batches = 50\n",
    "\n",
    "with tf.Session() as sess:\n",
    "    init.run()\n",
    "    for epoch in range(n_epochs):\n",
    "        for X_batch, y_batch in shuffle_batch(X_train, y_train, batch_size):\n",
    "            sess.run(training_op, feed_dict={X: X_batch, y: y_batch})\n",
    "        acc_batch = accuracy.eval(feed_dict={X: X_batch, y: y_batch})\n",
    "        acc_valid = accuracy.eval(feed_dict={X: X_valid, y: y_valid})\n",
    "        print(epoch, \"Batch accuracy:\", acc_batch, \"Validation accuracy:\", acc_valid)\n",
    "\n",
    "    save_path = saver.save(sess, \"./my_model_final.ckpt\")"
   ]
  },
  {
   "cell_type": "code",
   "execution_count": null,
   "metadata": {},
   "outputs": [],
   "source": [
    "show_graph(tf.get_default_graph())"
   ]
  },
  {
   "cell_type": "markdown",
   "metadata": {
    "collapsed": true
   },
   "source": [
    "# Exercise solutions"
   ]
  },
  {
   "cell_type": "markdown",
   "metadata": {},
   "source": [
    "## 1. to 8."
   ]
  },
  {
   "cell_type": "markdown",
   "metadata": {
    "collapsed": true
   },
   "source": [
    "See appendix A."
   ]
  },
  {
   "cell_type": "markdown",
   "metadata": {},
   "source": [
    "## 9."
   ]
  },
  {
   "cell_type": "markdown",
   "metadata": {},
   "source": [
    "_Train a deep MLP on the MNIST dataset and see if you can get over 98% precision. Just like in the last exercise of chapter 9, try adding all the bells and whistles (i.e., save checkpoints, restore the last checkpoint in case of an interruption, add summaries, plot learning curves using TensorBoard, and so on)._"
   ]
  },
  {
   "cell_type": "markdown",
   "metadata": {},
   "source": [
    "First let's create the deep net. It's exactly the same as earlier, with just one addition: we add a `tf.summary.scalar()` to track the loss and the accuracy during training, so we can view nice learning curves using TensorBoard."
   ]
  },
  {
   "cell_type": "code",
   "execution_count": null,
   "metadata": {},
   "outputs": [],
   "source": [
    "n_inputs = 28*28  # MNIST\n",
    "n_hidden1 = 300\n",
    "n_hidden2 = 100\n",
    "n_outputs = 10"
   ]
  },
  {
   "cell_type": "code",
   "execution_count": null,
   "metadata": {},
   "outputs": [],
   "source": [
    "reset_graph()\n",
    "\n",
    "X = tf.placeholder(tf.float32, shape=(None, n_inputs), name=\"X\")\n",
    "y = tf.placeholder(tf.int32, shape=(None), name=\"y\") "
   ]
  },
  {
   "cell_type": "code",
   "execution_count": null,
   "metadata": {},
   "outputs": [],
   "source": [
    "with tf.name_scope(\"dnn\"):\n",
    "    hidden1 = tf.layers.dense(X, n_hidden1, name=\"hidden1\",\n",
    "                              activation=tf.nn.relu)\n",
    "    hidden2 = tf.layers.dense(hidden1, n_hidden2, name=\"hidden2\",\n",
    "                              activation=tf.nn.relu)\n",
    "    logits = tf.layers.dense(hidden2, n_outputs, name=\"outputs\")"
   ]
  },
  {
   "cell_type": "code",
   "execution_count": null,
   "metadata": {},
   "outputs": [],
   "source": [
    "with tf.name_scope(\"loss\"):\n",
    "    xentropy = tf.nn.sparse_softmax_cross_entropy_with_logits(labels=y, logits=logits)\n",
    "    loss = tf.reduce_mean(xentropy, name=\"loss\")\n",
    "    loss_summary = tf.summary.scalar('log_loss', loss)"
   ]
  },
  {
   "cell_type": "code",
   "execution_count": null,
   "metadata": {},
   "outputs": [],
   "source": [
    "learning_rate = 0.01\n",
    "\n",
    "with tf.name_scope(\"train\"):\n",
    "    optimizer = tf.train.GradientDescentOptimizer(learning_rate)\n",
    "    training_op = optimizer.minimize(loss)"
   ]
  },
  {
   "cell_type": "code",
   "execution_count": null,
   "metadata": {},
   "outputs": [],
   "source": [
    "with tf.name_scope(\"eval\"):\n",
    "    correct = tf.nn.in_top_k(logits, y, 1)\n",
    "    accuracy = tf.reduce_mean(tf.cast(correct, tf.float32))\n",
    "    accuracy_summary = tf.summary.scalar('accuracy', accuracy)"
   ]
  },
  {
   "cell_type": "code",
   "execution_count": null,
   "metadata": {},
   "outputs": [],
   "source": [
    "init = tf.global_variables_initializer()\n",
    "saver = tf.train.Saver()"
   ]
  },
  {
   "cell_type": "markdown",
   "metadata": {},
   "source": [
    "Now we need to define the directory to write the TensorBoard logs to:"
   ]
  },
  {
   "cell_type": "code",
   "execution_count": null,
   "metadata": {},
   "outputs": [],
   "source": [
    "from datetime import datetime\n",
    "\n",
    "def log_dir(prefix=\"\"):\n",
    "    now = datetime.utcnow().strftime(\"%Y%m%d%H%M%S\")\n",
    "    root_logdir = \"tf_logs\"\n",
    "    if prefix:\n",
    "        prefix += \"-\"\n",
    "    name = prefix + \"run-\" + now\n",
    "    return \"{}/{}/\".format(root_logdir, name)"
   ]
  },
  {
   "cell_type": "code",
   "execution_count": null,
   "metadata": {},
   "outputs": [],
   "source": [
    "logdir = log_dir(\"mnist_dnn\")"
   ]
  },
  {
   "cell_type": "markdown",
   "metadata": {},
   "source": [
    "Now we can create the `FileWriter` that we will use to write the TensorBoard logs:"
   ]
  },
  {
   "cell_type": "code",
   "execution_count": null,
   "metadata": {},
   "outputs": [],
   "source": [
    "file_writer = tf.summary.FileWriter(logdir, tf.get_default_graph())"
   ]
  },
  {
   "cell_type": "markdown",
   "metadata": {},
   "source": [
    "Hey! Why don't we implement early stopping? For this, we are going to need to use the validation set."
   ]
  },
  {
   "cell_type": "code",
   "execution_count": null,
   "metadata": {},
   "outputs": [],
   "source": [
    "m, n = X_train.shape"
   ]
  },
  {
   "cell_type": "code",
   "execution_count": null,
   "metadata": {},
   "outputs": [],
   "source": [
    "n_epochs = 10001\n",
    "batch_size = 50\n",
    "n_batches = int(np.ceil(m / batch_size))\n",
    "\n",
    "checkpoint_path = \"/tmp/my_deep_mnist_model.ckpt\"\n",
    "checkpoint_epoch_path = checkpoint_path + \".epoch\"\n",
    "final_model_path = \"./my_deep_mnist_model\"\n",
    "\n",
    "best_loss = np.infty\n",
    "epochs_without_progress = 0\n",
    "max_epochs_without_progress = 50\n",
    "\n",
    "with tf.Session() as sess:\n",
    "    if os.path.isfile(checkpoint_epoch_path):\n",
    "        # if the checkpoint file exists, restore the model and load the epoch number\n",
    "        with open(checkpoint_epoch_path, \"rb\") as f:\n",
    "            start_epoch = int(f.read())\n",
    "        print(\"Training was interrupted. Continuing at epoch\", start_epoch)\n",
    "        saver.restore(sess, checkpoint_path)\n",
    "    else:\n",
    "        start_epoch = 0\n",
    "        sess.run(init)\n",
    "\n",
    "    for epoch in range(start_epoch, n_epochs):\n",
    "        for X_batch, y_batch in shuffle_batch(X_train, y_train, batch_size):\n",
    "            sess.run(training_op, feed_dict={X: X_batch, y: y_batch})\n",
    "        accuracy_val, loss_val, accuracy_summary_str, loss_summary_str = sess.run([accuracy, loss, accuracy_summary, loss_summary], feed_dict={X: X_valid, y: y_valid})\n",
    "        file_writer.add_summary(accuracy_summary_str, epoch)\n",
    "        file_writer.add_summary(loss_summary_str, epoch)\n",
    "        if epoch % 5 == 0:\n",
    "            print(\"Epoch:\", epoch,\n",
    "                  \"\\tValidation accuracy: {:.3f}%\".format(accuracy_val * 100),\n",
    "                  \"\\tLoss: {:.5f}\".format(loss_val))\n",
    "            saver.save(sess, checkpoint_path)\n",
    "            with open(checkpoint_epoch_path, \"wb\") as f:\n",
    "                f.write(b\"%d\" % (epoch + 1))\n",
    "            if loss_val < best_loss:\n",
    "                saver.save(sess, final_model_path)\n",
    "                best_loss = loss_val\n",
    "            else:\n",
    "                epochs_without_progress += 5\n",
    "                if epochs_without_progress > max_epochs_without_progress:\n",
    "                    print(\"Early stopping\")\n",
    "                    break"
   ]
  },
  {
   "cell_type": "code",
   "execution_count": null,
   "metadata": {},
   "outputs": [],
   "source": [
    "os.remove(checkpoint_epoch_path)"
   ]
  },
  {
   "cell_type": "code",
   "execution_count": null,
   "metadata": {},
   "outputs": [],
   "source": [
    "with tf.Session() as sess:\n",
    "    saver.restore(sess, final_model_path)\n",
    "    accuracy_val = accuracy.eval(feed_dict={X: X_test, y: y_test})"
   ]
  },
  {
   "cell_type": "code",
   "execution_count": null,
   "metadata": {},
   "outputs": [],
   "source": [
    "accuracy_val"
   ]
  },
  {
   "cell_type": "code",
   "execution_count": null,
   "metadata": {},
   "outputs": [],
   "source": []
  }
 ],
 "metadata": {
  "kernelspec": {
   "display_name": "Python 3",
   "language": "python",
   "name": "python3"
  },
  "language_info": {
   "codemirror_mode": {
    "name": "ipython",
    "version": 3
   },
   "file_extension": ".py",
   "mimetype": "text/x-python",
   "name": "python",
   "nbconvert_exporter": "python",
   "pygments_lexer": "ipython3",
   "version": "3.6.5"
  },
  "nav_menu": {
   "height": "264px",
   "width": "369px"
  },
  "toc": {
   "navigate_menu": true,
   "number_sections": true,
   "sideBar": true,
   "threshold": 6,
   "toc_cell": false,
   "toc_section_display": "block",
   "toc_window_display": false
  }
 },
 "nbformat": 4,
 "nbformat_minor": 1
}
